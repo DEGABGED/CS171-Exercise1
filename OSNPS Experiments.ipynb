{
 "cells": [
  {
   "cell_type": "code",
   "execution_count": 1,
   "metadata": {},
   "outputs": [],
   "source": [
    "import time\n",
    "import numpy as np\n",
    "from random import random as rand\n",
    "from math import floor\n",
    "from numba import cuda\n",
    "import matplotlib.pyplot as plt\n",
    "\n",
    "from osnps.base import KnapsackProblem\n",
    "from osnps.concrete import SerialOSNPS, ParallelOSNPS"
   ]
  },
  {
   "cell_type": "code",
   "execution_count": 15,
   "metadata": {},
   "outputs": [],
   "source": [
    "def normalize(arr):\n",
    "    max_val = float(np.max(arr))\n",
    "    return [i / max_val for i in arr]"
   ]
  },
  {
   "cell_type": "markdown",
   "metadata": {},
   "source": [
    "# OSNPS Experiments"
   ]
  },
  {
   "cell_type": "markdown",
   "metadata": {},
   "source": [
    "## 1. Runtime vs Generations"
   ]
  },
  {
   "cell_type": "code",
   "execution_count": 9,
   "metadata": {},
   "outputs": [],
   "source": [
    "runs = [\n",
    "    250,\n",
    "    500,\n",
    "    750,\n",
    "    1000,\n",
    "    1250,\n",
    "    1500\n",
    "]\n",
    "\n",
    "H = 64\n",
    "m = 1024\n",
    "\n",
    "threads_per_block = (16,64)\n",
    "blocks_per_grid = (16,16)\n",
    "\n",
    "reps = 7"
   ]
  },
  {
   "cell_type": "code",
   "execution_count": 4,
   "metadata": {},
   "outputs": [],
   "source": [
    "kp = KnapsackProblem(m)\n",
    "ffxn = kp.fitness()"
   ]
  },
  {
   "cell_type": "code",
   "execution_count": 5,
   "metadata": {},
   "outputs": [],
   "source": [
    "model_cpu = SerialOSNPS(H, m, fitness=ffxn)\n",
    "\n",
    "model_gpu = ParallelOSNPS(H, m, fitness=ffxn)\n",
    "model_gpu.set_GPU_params(threads_per_block, blocks_per_grid)"
   ]
  },
  {
   "cell_type": "markdown",
   "metadata": {},
   "source": [
    "## CPU"
   ]
  },
  {
   "cell_type": "code",
   "execution_count": 10,
   "metadata": {
    "scrolled": true
   },
   "outputs": [
    {
     "name": "stdout",
     "output_type": "stream",
     "text": [
      "35 s ± 1.31 s per loop (mean ± std. dev. of 7 runs, 1 loop each)\n"
     ]
    }
   ],
   "source": [
    "%timeit _, max_fs, runtime_fs = model_cpu.run(runs[0])"
   ]
  },
  {
   "cell_type": "code",
   "execution_count": 11,
   "metadata": {},
   "outputs": [
    {
     "name": "stdout",
     "output_type": "stream",
     "text": [
      "1min 13s ± 1.17 s per loop (mean ± std. dev. of 7 runs, 1 loop each)\n"
     ]
    }
   ],
   "source": [
    "%timeit _, max_fs, runtime_fs = model_cpu.run(runs[1])"
   ]
  },
  {
   "cell_type": "code",
   "execution_count": 12,
   "metadata": {},
   "outputs": [
    {
     "name": "stdout",
     "output_type": "stream",
     "text": [
      "1min 49s ± 1.99 s per loop (mean ± std. dev. of 7 runs, 1 loop each)\n"
     ]
    }
   ],
   "source": [
    "%timeit _, max_fs, runtime_fs = model_cpu.run(runs[2])"
   ]
  },
  {
   "cell_type": "code",
   "execution_count": 13,
   "metadata": {},
   "outputs": [
    {
     "name": "stdout",
     "output_type": "stream",
     "text": [
      "2min 31s ± 1.98 s per loop (mean ± std. dev. of 7 runs, 1 loop each)\n"
     ]
    }
   ],
   "source": [
    "%timeit _, max_fs, runtime_fs = model_cpu.run(runs[3])"
   ]
  },
  {
   "cell_type": "code",
   "execution_count": 14,
   "metadata": {},
   "outputs": [
    {
     "name": "stdout",
     "output_type": "stream",
     "text": [
      "3min 1s ± 1.53 s per loop (mean ± std. dev. of 7 runs, 1 loop each)\n"
     ]
    }
   ],
   "source": [
    "%timeit _, max_fs, runtime_fs = model_cpu.run(runs[4])"
   ]
  },
  {
   "cell_type": "code",
   "execution_count": 15,
   "metadata": {},
   "outputs": [
    {
     "name": "stdout",
     "output_type": "stream",
     "text": [
      "4min 9s ± 1min 9s per loop (mean ± std. dev. of 7 runs, 1 loop each)\n"
     ]
    }
   ],
   "source": [
    "%timeit _, max_fs, runtime_fs = model_cpu.run(runs[5])"
   ]
  },
  {
   "cell_type": "markdown",
   "metadata": {},
   "source": [
    "## GPU"
   ]
  },
  {
   "cell_type": "code",
   "execution_count": 16,
   "metadata": {},
   "outputs": [
    {
     "name": "stdout",
     "output_type": "stream",
     "text": [
      "1.69 s ± 5.5 ms per loop (mean ± std. dev. of 7 runs, 1 loop each)\n"
     ]
    }
   ],
   "source": [
    "%timeit _, max_fp, runtime_fp = model_gpu.run(runs[0])"
   ]
  },
  {
   "cell_type": "code",
   "execution_count": 17,
   "metadata": {},
   "outputs": [
    {
     "name": "stdout",
     "output_type": "stream",
     "text": [
      "3.37 s ± 6.4 ms per loop (mean ± std. dev. of 7 runs, 1 loop each)\n"
     ]
    }
   ],
   "source": [
    "%timeit _, max_fp, runtime_fp = model_gpu.run(runs[1])"
   ]
  },
  {
   "cell_type": "code",
   "execution_count": 18,
   "metadata": {},
   "outputs": [
    {
     "name": "stdout",
     "output_type": "stream",
     "text": [
      "5.07 s ± 24.6 ms per loop (mean ± std. dev. of 7 runs, 1 loop each)\n"
     ]
    }
   ],
   "source": [
    "%timeit _, max_fp, runtime_fp = model_gpu.run(runs[2])"
   ]
  },
  {
   "cell_type": "code",
   "execution_count": 19,
   "metadata": {},
   "outputs": [
    {
     "name": "stdout",
     "output_type": "stream",
     "text": [
      "6.74 s ± 4.9 ms per loop (mean ± std. dev. of 7 runs, 1 loop each)\n"
     ]
    }
   ],
   "source": [
    "%timeit _, max_fp, runtime_fp = model_gpu.run(runs[3])"
   ]
  },
  {
   "cell_type": "code",
   "execution_count": 20,
   "metadata": {},
   "outputs": [
    {
     "name": "stdout",
     "output_type": "stream",
     "text": [
      "8.49 s ± 85.7 ms per loop (mean ± std. dev. of 7 runs, 1 loop each)\n"
     ]
    }
   ],
   "source": [
    "%timeit _, max_fp, runtime_fp = model_gpu.run(runs[4])"
   ]
  },
  {
   "cell_type": "code",
   "execution_count": 21,
   "metadata": {},
   "outputs": [
    {
     "name": "stdout",
     "output_type": "stream",
     "text": [
      "10.5 s ± 177 ms per loop (mean ± std. dev. of 7 runs, 1 loop each)\n"
     ]
    }
   ],
   "source": [
    "%timeit _, max_fp, runtime_fp = model_gpu.run(runs[5])"
   ]
  },
  {
   "cell_type": "markdown",
   "metadata": {},
   "source": [
    "## 2. Convergence of solutions"
   ]
  },
  {
   "cell_type": "code",
   "execution_count": 3,
   "metadata": {},
   "outputs": [],
   "source": [
    "runs = 1000\n",
    "\n",
    "H = 64\n",
    "m = 1024\n",
    "\n",
    "threads_per_block = (16,64)\n",
    "blocks_per_grid = (16,16)\n",
    "\n",
    "reps = 7"
   ]
  },
  {
   "cell_type": "code",
   "execution_count": 5,
   "metadata": {},
   "outputs": [],
   "source": [
    "kp = KnapsackProblem(m)\n",
    "ffxn = kp.fitness()"
   ]
  },
  {
   "cell_type": "code",
   "execution_count": 6,
   "metadata": {},
   "outputs": [],
   "source": [
    "model_cpu = SerialOSNPS(H, m, fitness=ffxn)\n",
    "\n",
    "model_gpu = ParallelOSNPS(H, m, fitness=ffxn)\n",
    "model_gpu.set_GPU_params(threads_per_block, blocks_per_grid)"
   ]
  },
  {
   "cell_type": "code",
   "execution_count": 8,
   "metadata": {},
   "outputs": [
    {
     "name": "stdout",
     "output_type": "stream",
     "text": [
      "CPU, run 0\n",
      "GPU, run 0\n",
      "CPU, run 1\n",
      "GPU, run 1\n",
      "CPU, run 2\n",
      "GPU, run 2\n",
      "CPU, run 3\n",
      "GPU, run 3\n",
      "CPU, run 4\n",
      "GPU, run 4\n",
      "CPU, run 5\n",
      "GPU, run 5\n",
      "CPU, run 6\n",
      "GPU, run 6\n"
     ]
    }
   ],
   "source": [
    "cpu_runs = []\n",
    "gpu_runs = []\n",
    "\n",
    "for i in range(7):\n",
    "    _, max_fs, _ = model_cpu.run(runs)\n",
    "    cpu_runs.append(max_fs)\n",
    "    print(\"CPU, run {}\".format(i))\n",
    "    \n",
    "    _, max_fp, _ = model_gpu.run(runs)\n",
    "    gpu_runs.append(max_fp)\n",
    "    print(\"GPU, run {}\".format(i))"
   ]
  },
  {
   "cell_type": "code",
   "execution_count": 16,
   "metadata": {},
   "outputs": [],
   "source": [
    "for i in range(reps):\n",
    "    cpu_runs[i] = normalize(cpu_runs[i])\n",
    "    gpu_runs[i] = normalize(gpu_runs[i])"
   ]
  },
  {
   "cell_type": "code",
   "execution_count": 18,
   "metadata": {},
   "outputs": [],
   "source": [
    "cpu_fitnessruns = np.array(cpu_runs)\n",
    "gpu_fitnessruns = np.array(gpu_runs)\n",
    "\n",
    "np.save('cpu_fitnessruns', cpu_fitnessruns)\n",
    "np.save('gpu_fitnessruns', gpu_fitnessruns)"
   ]
  },
  {
   "cell_type": "code",
   "execution_count": 24,
   "metadata": {},
   "outputs": [],
   "source": [
    "def reject_outliers(data, m = 2.):\n",
    "    d = np.abs(data - np.median(data))\n",
    "    mdev = np.median(d)\n",
    "    s = d/mdev if mdev else 0.\n",
    "    return data[s<m]"
   ]
  },
  {
   "cell_type": "code",
   "execution_count": 42,
   "metadata": {},
   "outputs": [
    {
     "data": {
      "text/plain": [
       "(951,)"
      ]
     },
     "execution_count": 42,
     "metadata": {},
     "output_type": "execute_result"
    }
   ],
   "source": [
    "reject_outliers(np.mean(cpu_fitnessruns, axis=0), m=100).shape"
   ]
  },
  {
   "cell_type": "code",
   "execution_count": 45,
   "metadata": {
    "scrolled": true
   },
   "outputs": [
    {
     "data": {
      "image/png": "[encoded data removed]",
      "text/plain": [
       "<Figure size 432x288 with 1 Axes>"
      ]
     },
     "metadata": {
      "needs_background": "light"
     },
     "output_type": "display_data"
    }
   ],
   "source": [
    "plt.plot(np.arange(runs+1), np.mean(cpu_fitnessruns, axis=0))\n",
    "plt.plot(np.arange(runs+1), np.mean(gpu_fitnessruns, axis=0))\n",
    "\n",
    "plt.legend(['Serial', 'Parallel [(16x16), (16x64)]'], loc='lower right')\n",
    "\n",
    "plt.xlabel('Generations')\n",
    "plt.ylabel('Fitness')\n",
    "plt.title('Fitness of solution over time (1024 items)')\n",
    "\n",
    "ax = plt.gca()\n",
    "ax.set_ylim([0.93,1.00]) # Skip outlier\n",
    "\n",
    "plt.show()"
   ]
  },
  {
   "cell_type": "markdown",
   "metadata": {},
   "source": [
    "## 3. Runtime vs Problem Size"
   ]
  },
  {
   "cell_type": "code",
   "execution_count": 49,
   "metadata": {},
   "outputs": [],
   "source": [
    "runs = 1000\n",
    "H = 64\n",
    "ms = [\n",
    "    128,\n",
    "    256,\n",
    "    512,\n",
    "    1024,\n",
    "    2048,\n",
    "]\n",
    "\n",
    "threads_per_block = (8,128)\n",
    "blocks_per_grid = (8,32)\n",
    "\n",
    "reps = 7"
   ]
  },
  {
   "cell_type": "code",
   "execution_count": 50,
   "metadata": {},
   "outputs": [],
   "source": [
    "ffxns = [KnapsackProblem(m).fitness() for m in ms]"
   ]
  },
  {
   "cell_type": "code",
   "execution_count": 51,
   "metadata": {},
   "outputs": [],
   "source": [
    "models_cpu = [SerialOSNPS(H, ms[i], fitness=ffxns[i]) for i in range(len(ms))]\n",
    "models_gpu = [ParallelOSNPS(H, ms[i], fitness=ffxns[i]) for i in range(len(ms))]\n",
    "\n",
    "for gpu in models_gpu:\n",
    "    gpu.set_GPU_params(threads_per_block, blocks_per_grid)"
   ]
  },
  {
   "cell_type": "markdown",
   "metadata": {},
   "source": [
    "### CPU"
   ]
  },
  {
   "cell_type": "code",
   "execution_count": 52,
   "metadata": {},
   "outputs": [
    {
     "name": "stdout",
     "output_type": "stream",
     "text": [
      "22.3 s ± 229 ms per loop (mean ± std. dev. of 7 runs, 1 loop each)\n"
     ]
    }
   ],
   "source": [
    "%timeit _, max_fs, runtime_fs = models_cpu[0].run(runs)"
   ]
  },
  {
   "cell_type": "code",
   "execution_count": 53,
   "metadata": {},
   "outputs": [
    {
     "name": "stdout",
     "output_type": "stream",
     "text": [
      "43.9 s ± 256 ms per loop (mean ± std. dev. of 7 runs, 1 loop each)\n"
     ]
    }
   ],
   "source": [
    "%timeit _, max_fs, runtime_fs = models_cpu[1].run(runs)"
   ]
  },
  {
   "cell_type": "code",
   "execution_count": 54,
   "metadata": {},
   "outputs": [
    {
     "name": "stdout",
     "output_type": "stream",
     "text": [
      "1min 28s ± 1.06 s per loop (mean ± std. dev. of 7 runs, 1 loop each)\n"
     ]
    }
   ],
   "source": [
    "%timeit _, max_fs, runtime_fs = models_cpu[2].run(runs)"
   ]
  },
  {
   "cell_type": "code",
   "execution_count": 55,
   "metadata": {},
   "outputs": [
    {
     "name": "stdout",
     "output_type": "stream",
     "text": [
      "2min 56s ± 1.31 s per loop (mean ± std. dev. of 7 runs, 1 loop each)\n"
     ]
    }
   ],
   "source": [
    "%timeit _, max_fs, runtime_fs = models_cpu[3].run(runs)"
   ]
  },
  {
   "cell_type": "code",
   "execution_count": 56,
   "metadata": {},
   "outputs": [
    {
     "name": "stdout",
     "output_type": "stream",
     "text": [
      "5min 53s ± 4.11 s per loop (mean ± std. dev. of 7 runs, 1 loop each)\n"
     ]
    }
   ],
   "source": [
    "%timeit _, max_fs, runtime_fs = models_cpu[4].run(runs)"
   ]
  },
  {
   "cell_type": "markdown",
   "metadata": {},
   "source": [
    "### GPU"
   ]
  },
  {
   "cell_type": "code",
   "execution_count": 57,
   "metadata": {},
   "outputs": [
    {
     "name": "stdout",
     "output_type": "stream",
     "text": [
      "2.41 s ± 4.78 ms per loop (mean ± std. dev. of 7 runs, 1 loop each)\n"
     ]
    }
   ],
   "source": [
    "%timeit _, max_fs, runtime_fs = models_gpu[0].run(runs)"
   ]
  },
  {
   "cell_type": "code",
   "execution_count": 58,
   "metadata": {},
   "outputs": [
    {
     "name": "stdout",
     "output_type": "stream",
     "text": [
      "2.92 s ± 5.48 ms per loop (mean ± std. dev. of 7 runs, 1 loop each)\n"
     ]
    }
   ],
   "source": [
    "%timeit _, max_fs, runtime_fs = models_gpu[1].run(runs)"
   ]
  },
  {
   "cell_type": "code",
   "execution_count": 59,
   "metadata": {},
   "outputs": [
    {
     "name": "stdout",
     "output_type": "stream",
     "text": [
      "4.55 s ± 18.8 ms per loop (mean ± std. dev. of 7 runs, 1 loop each)\n"
     ]
    }
   ],
   "source": [
    "%timeit _, max_fs, runtime_fs = models_gpu[2].run(runs)"
   ]
  },
  {
   "cell_type": "code",
   "execution_count": 60,
   "metadata": {},
   "outputs": [
    {
     "name": "stdout",
     "output_type": "stream",
     "text": [
      "6.79 s ± 19.4 ms per loop (mean ± std. dev. of 7 runs, 1 loop each)\n"
     ]
    }
   ],
   "source": [
    "%timeit _, max_fs, runtime_fs = models_gpu[3].run(runs)"
   ]
  },
  {
   "cell_type": "code",
   "execution_count": 61,
   "metadata": {},
   "outputs": [
    {
     "name": "stdout",
     "output_type": "stream",
     "text": [
      "12 s ± 35.2 ms per loop (mean ± std. dev. of 7 runs, 1 loop each)\n"
     ]
    }
   ],
   "source": [
    "%timeit _, max_fs, runtime_fs = models_gpu[4].run(runs)"
   ]
  },
  {
   "cell_type": "markdown",
   "metadata": {},
   "source": [
    "## GPU Stress-testing"
   ]
  },
  {
   "cell_type": "code",
   "execution_count": null,
   "metadata": {},
   "outputs": [],
   "source": [
    "runs = 1000\n",
    "H = 64\n",
    "m = 4096\n",
    "\n",
    "threads_per_block = (8,128)\n",
    "blocks_per_grid = (8,32)\n",
    "\n",
    "reps = 7"
   ]
  }
 ],
 "metadata": {
  "kernelspec": {
   "display_name": "Python 3",
   "language": "python",
   "name": "python3"
  },
  "language_info": {
   "codemirror_mode": {
    "name": "ipython",
    "version": 3
   },
   "file_extension": ".py",
   "mimetype": "text/x-python",
   "name": "python",
   "nbconvert_exporter": "python",
   "pygments_lexer": "ipython3",
   "version": "3.7.1"
  }
 },
 "nbformat": 4,
 "nbformat_minor": 2
}
