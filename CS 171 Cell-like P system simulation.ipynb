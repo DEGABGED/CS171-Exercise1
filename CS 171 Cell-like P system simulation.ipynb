{
 "cells": [
  {
   "cell_type": "markdown",
   "metadata": {},
   "source": [
    "# Basic membrane representation"
   ]
  },
  {
   "cell_type": "code",
   "execution_count": 1,
   "metadata": {},
   "outputs": [],
   "source": [
    "import numpy as np\n",
    "from numba import cuda\n",
    "from collections import defaultdict"
   ]
  },
  {
   "cell_type": "code",
   "execution_count": 15,
   "metadata": {},
   "outputs": [],
   "source": [
    "EVOLVE = 0\n",
    "SENDIN = 1\n",
    "SENDOUT = 2\n",
    "DISSOL = 3\n",
    "DIVIDE = 4"
   ]
  },
  {
   "cell_type": "code",
   "execution_count": 89,
   "metadata": {},
   "outputs": [],
   "source": [
    "class PMembrane(object):\n",
    "    def __init__(self, O=[], multiset=''):\n",
    "        self.O = O\n",
    "        self.H = [1]                                  # Label of membranes (skin)\n",
    "        self.mu = [-1]                                # Tree with indices (membranes will be 0-indexed)\n",
    "                                                      # mu: membrane -> parent\n",
    "        self.omega = [multiset]                       # Multiset of objects placed in the regions of mu\n",
    "\n",
    "#         self.rules_evolution = defaultdict(list)      # (membrane, object) -> object\n",
    "#         self.rules_sendin = defaultdict(list)         # (membrane, object) -> object\n",
    "#         self.rules_sendout = defaultdict(list)        # (membrane, object) -> object\n",
    "#         self.rules_dissolution = defaultdict(list)    # (membrane, object) -> object\n",
    "#         self.rules_division = defaultdict(list)       # (membrane, object) -> (object, object) (simplify to object)\n",
    "        \n",
    "        self.rules = [defaultdict(list) for i in range(5)]\n",
    "        # [evolution, sendin, sendout, dissolution, division]\n",
    "\n",
    "    def add_membrane(self, parent, label, multiset=''):\n",
    "        self.H.append(label)\n",
    "        self.mu.append(parent)\n",
    "        self.omega.append(multiset)\n",
    "        \n",
    "    def add_rule(self, membrane_label, obj, ruletype, new_obj):\n",
    "        self.rules[ruletype][(membrane_label, obj)] = new_obj\n",
    "        \n",
    "    def level2_membranes(self):\n",
    "        return [ndx for ndx, parent in enumerate(self.mu) if parent == 0]\n",
    "    \n",
    "    def level3_membranes(self):\n",
    "        return [ndx+1 for ndx, parent in enumerate(self.mu[1:]) if self.mu[parent] == 0]\n",
    "    \n",
    "    def level2_submembranes(self, membrane):\n",
    "        if self.mu[membrane] == 0:\n",
    "            \n",
    "            # Get list of submembranes\n",
    "            submembranes = [ndx for ndx, parent in enumerate(self.mu) if parent == membrane]\n",
    "            matrix = np.zeros((len(submembranes), len(self.O)),dtype=np.int16)\n",
    "            membranes = []\n",
    "            \n",
    "            for ndx, sm in enumerate(submembranes):\n",
    "                membranes.append(sm)\n",
    "                for obj in self.omega[sm]:\n",
    "                    matrix[ndx, self.O.index(obj)] += 1\n",
    "\n",
    "            return matrix, membranes\n",
    "        \n",
    "    def level2_multiset(self, membrane):\n",
    "        if self.mu[membrane] == 0:\n",
    "            matrix = np.zeros(len(self.O), dtype=np.int16)\n",
    "            for obj in self.omega[membrane]:\n",
    "                matrix[self.O.index(obj)] += 1\n",
    "            \n",
    "            return matrix\n",
    "        \n",
    "    def ruleset(self):\n",
    "        # array of tuples: (object, membrane, ruletype, output object)\n",
    "        # for simplicity, division rules will only output 2 membranes with the same evolved object\n",
    "        ruleset = []\n",
    "        for i in range(5):\n",
    "            for k, v in self.rules[i].items():\n",
    "                ruleset.append((\n",
    "                    self.O.index(k[1]),\n",
    "                    k[0],\n",
    "                    i,\n",
    "                    self.O.index(v)\n",
    "                ))\n",
    "        ruleset.sort()\n",
    "        objects = [r[0] for r in ruleset]\n",
    "        indices = [objects.index(i) if i in objects else -1 for i in range(len(self.O))]\n",
    "        return ruleset, indices"
   ]
  },
  {
   "cell_type": "code",
   "execution_count": 90,
   "metadata": {},
   "outputs": [],
   "source": [
    "# Test membrane\n",
    "\n",
    "test = PMembrane(O=['a', 'b', 'c'], multiset=\"a\")\n",
    "test.add_membrane(0, 2, multiset=\"abc\")\n",
    "test.add_membrane(0, 2, multiset=\"aab\")\n",
    "test.add_membrane(0, 2, multiset=\"abcc\")\n",
    "test.add_membrane(1, 3, multiset=\"a\")\n",
    "test.add_membrane(1, 3, multiset=\"bb\")\n",
    "test.add_membrane(1, 3, multiset=\"c\")\n",
    "test.add_membrane(2, 3, multiset=\"ac\")\n",
    "test.add_membrane(2, 3, multiset=\"bbc\")\n",
    "test.add_membrane(2, 3, multiset=\"ccc\")\n",
    "test.add_membrane(3, 3, multiset=\"aa\")\n",
    "test.add_membrane(3, 3, multiset=\"bc\")\n",
    "test.add_membrane(3, 3, multiset=\"b\")\n",
    "\n",
    "test.add_rule(3, 'a', EVOLVE, 'b')\n",
    "test.add_rule(3, 'b', EVOLVE, 'c')\n",
    "test.add_rule(2, 'a', EVOLVE, 'b')\n",
    "test.add_rule(2, 'b', EVOLVE, 'c')"
   ]
  },
  {
   "cell_type": "code",
   "execution_count": 91,
   "metadata": {},
   "outputs": [
    {
     "data": {
      "text/plain": [
       "[1, 2, 3]"
      ]
     },
     "execution_count": 91,
     "metadata": {},
     "output_type": "execute_result"
    }
   ],
   "source": [
    "test.level2_membranes()"
   ]
  },
  {
   "cell_type": "code",
   "execution_count": 98,
   "metadata": {},
   "outputs": [
    {
     "data": {
      "text/plain": [
       "(array([[1, 0, 0],\n",
       "        [0, 2, 0],\n",
       "        [0, 0, 1]], dtype=int16), [4, 5, 6])"
      ]
     },
     "execution_count": 98,
     "metadata": {},
     "output_type": "execute_result"
    }
   ],
   "source": [
    "test.level2_submembranes(1)"
   ]
  },
  {
   "cell_type": "code",
   "execution_count": 95,
   "metadata": {},
   "outputs": [
    {
     "data": {
      "text/plain": [
       "[4, 5, 6, 7, 8, 9, 10, 11, 12]"
      ]
     },
     "execution_count": 95,
     "metadata": {},
     "output_type": "execute_result"
    }
   ],
   "source": [
    "test.level3_membranes()"
   ]
  },
  {
   "cell_type": "code",
   "execution_count": 96,
   "metadata": {},
   "outputs": [
    {
     "data": {
      "text/plain": [
       "array([2, 1, 0], dtype=int16)"
      ]
     },
     "execution_count": 96,
     "metadata": {},
     "output_type": "execute_result"
    }
   ],
   "source": [
    "test.level2_multiset(2)"
   ]
  },
  {
   "cell_type": "code",
   "execution_count": 97,
   "metadata": {},
   "outputs": [
    {
     "data": {
      "text/plain": [
       "([(0, 2, 0, 1), (0, 3, 0, 1), (1, 2, 0, 2), (1, 3, 0, 2)], [0, 2, -1])"
      ]
     },
     "execution_count": 97,
     "metadata": {},
     "output_type": "execute_result"
    }
   ],
   "source": [
    "# (object, membrane, ruletype, output object)\n",
    "test.ruleset()"
   ]
  },
  {
   "cell_type": "markdown",
   "metadata": {},
   "source": [
    "# Selection / Evolution Kernel"
   ]
  },
  {
   "cell_type": "code",
   "execution_count": null,
   "metadata": {},
   "outputs": [],
   "source": [
    "@cuda.jit\n",
    "def selection_kernel(M_3, M_2, R, R_ndx, out):\n",
    "    obj = cuda.threadIdx.x\n",
    "    mem_3 = cuda.threadIdx.y\n",
    "    mem_2 = cuda.blockIdx.x\n",
    "    \n",
    "    rulecount = len(R)\n",
    "    \n",
    "    # Select level 3 rules first\n",
    "    if R_ndx[mem] >= 0 and M_3[mem_2][mem_3][obj] > 0:\n",
    "        for i in range(R_ndx[mem], rulecount):\n",
    "            if (R[i][0] != obj):\n",
    "                break\n",
    "            if (R[i][1] == 3):\n",
    "                out[i] = 1\n",
    "            # select level 2's as well, if they're in the thing\n",
    "            if (R[i][1] == 2 and M_2[mem_2][obj] > 0):\n",
    "                out[i] = 1"
   ]
  }
 ],
 "metadata": {
  "kernelspec": {
   "display_name": "Python 3",
   "language": "python",
   "name": "python3"
  },
  "language_info": {
   "codemirror_mode": {
    "name": "ipython",
    "version": 3
   },
   "file_extension": ".py",
   "mimetype": "text/x-python",
   "name": "python",
   "nbconvert_exporter": "python",
   "pygments_lexer": "ipython3",
   "version": "3.7.1"
  }
 },
 "nbformat": 4,
 "nbformat_minor": 2
}
