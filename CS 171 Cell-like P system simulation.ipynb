{
 "cells": [
  {
   "cell_type": "markdown",
   "metadata": {},
   "source": [
    "# Basic membrane representation"
   ]
  },
  {
   "cell_type": "code",
   "execution_count": 2,
   "metadata": {},
   "outputs": [],
   "source": [
    "import numpy as np\n",
    "from numba import cuda\n",
    "from collections import defaultdict"
   ]
  },
  {
   "cell_type": "code",
   "execution_count": 3,
   "metadata": {},
   "outputs": [],
   "source": [
    "EVOLVE = 0\n",
    "SENDIN = 1\n",
    "SENDOUT = 2\n",
    "DISSOL = 3\n",
    "DIVIDE = 4"
   ]
  },
  {
   "cell_type": "code",
   "execution_count": 98,
   "metadata": {},
   "outputs": [],
   "source": [
    "class PMembrane(object):\n",
    "    def __init__(self, O=[], multiset=''):\n",
    "        self.O = O                                    # Alphabet\n",
    "        self.H = [1]                                  # Label of membranes (first is the skin) (level in this case)\n",
    "        self.mu = [-1]                                # Tree with indices (membranes will be 0-indexed)\n",
    "                                                      # mu: membrane -> parent\n",
    "        self.omega = [multiset]                       # Multiset of objects placed in the regions of mu\n",
    "\n",
    "#         self.rules_evolution = defaultdict(list)      # (level, object) -> object : [o]l => [o]l\n",
    "#         self.rules_sendin = defaultdict(list)         # (level, object) -> object : o []l => [o]l\n",
    "#         self.rules_sendout = defaultdict(list)        # (level, object) -> object : [o]l => []l o\n",
    "#         self.rules_dissolution = defaultdict(list)    # (level, object) -> object : [o]l => o\n",
    "#         self.rules_division = defaultdict(list)       # (level, object) -> object : [o]l => [o]l [o]l\n",
    "        \n",
    "        self.rules = [defaultdict(list) for i in range(5)]\n",
    "        # [evolution, sendin, sendout, dissolution, division]\n",
    "        # Structure is shown in commented code above\n",
    "\n",
    "    def add_membrane(self, parent, label, multiset=''):\n",
    "        '''Adds a membrane of label / layer and with multiset inside a parent membrane'''\n",
    "        self.H.append(label)\n",
    "        self.mu.append(parent)\n",
    "        self.omega.append(multiset)\n",
    "        \n",
    "    def add_rule(self, label, obj, ruletype, new_obj):\n",
    "        '''Adds a rule for a membrane label and an object'''\n",
    "        self.rules[ruletype][(label, obj)] = new_obj\n",
    "        \n",
    "    def level2_membranes(self):\n",
    "        '''Returns a list of level 2 membranes'''\n",
    "        return [ndx for ndx, parent in enumerate(self.mu) if parent == 0]\n",
    "    \n",
    "    def level3_membranes(self):\n",
    "        '''Returns a list of level 3 membranes'''\n",
    "        return [ndx+1 for ndx, parent in enumerate(self.mu[1:]) if self.mu[parent] == 0]\n",
    "    \n",
    "    def level2_submembranes_multisets(self, membrane):\n",
    "        '''Returns a count matrix of submembranes x objects'''\n",
    "        '''The matrix will serve as input to the kernel'''\n",
    "        if self.mu[membrane] == 0:\n",
    "            \n",
    "            # Get list of submembranes\n",
    "            submembranes = [ndx for ndx, parent in enumerate(self.mu) if parent == membrane]\n",
    "            matrix = np.zeros((len(submembranes), len(self.O)),dtype=np.int16)\n",
    "            \n",
    "            for ndx, sm in enumerate(submembranes):\n",
    "                for obj in self.omega[sm]:\n",
    "                    matrix[ndx, self.O.index(obj)] += 1\n",
    "\n",
    "            return matrix\n",
    "\n",
    "    def level2_submembranes(self, membrane):\n",
    "        '''Returns the specific membranes in the count matrix'''\n",
    "        if self.mu[membrane] == 0:\n",
    "\n",
    "            return [ndx for ndx, parent in enumerate(self.mu) if parent == membrane]\n",
    "        \n",
    "    def level2_multiset(self, membrane):\n",
    "        '''Returns an array of object counts in the multiset of the level 2 membrane'''\n",
    "        if self.mu[membrane] == 0:\n",
    "            matrix = np.zeros(len(self.O), dtype=np.int16)\n",
    "            for obj in self.omega[membrane]:\n",
    "                matrix[self.O.index(obj)] += 1\n",
    "            \n",
    "            return matrix\n",
    "        \n",
    "    def ruleset(self):\n",
    "        '''\n",
    "        Returns an array of tuples, each one representing a rule:\n",
    "            (object, membrane, ruletype, output_object)\n",
    "        The array is sorted, and an array of indices will also be returned\n",
    "            indices[obj] = ndx where the thread will start looking for rules\n",
    "        For simplicity, division rules will only output 2 membranes with the same evolved object'''\n",
    "        ruleset = np.zeros((0,4), dtype=np.int16)\n",
    "        for i in range(5):\n",
    "            for k, v in self.rules[i].items():\n",
    "                ruleset = np.vstack((ruleset, [\n",
    "                    self.O.index(k[1]),\n",
    "                    k[0],\n",
    "                    i,\n",
    "                    self.O.index(v)\n",
    "                ]))\n",
    "        ruleset = ruleset[np.lexsort(np.rot90(ruleset))]\n",
    "        objects = [r[0] for r in ruleset]\n",
    "        indices = np.array([objects.index(i) if i in objects else -1 for i in range(len(self.O))], dtype=np.int16)\n",
    "        return ruleset, indices"
   ]
  },
  {
   "cell_type": "code",
   "execution_count": 99,
   "metadata": {},
   "outputs": [],
   "source": [
    "# Test membrane\n",
    "\n",
    "test = PMembrane(O=['a', 'b', 'c'], multiset=\"a\")\n",
    "test.add_membrane(0, 2, multiset=\"abc\")\n",
    "test.add_membrane(0, 2, multiset=\"aab\")\n",
    "test.add_membrane(0, 2, multiset=\"abcc\")\n",
    "test.add_membrane(1, 3, multiset=\"a\")\n",
    "test.add_membrane(1, 3, multiset=\"bb\")\n",
    "test.add_membrane(1, 3, multiset=\"c\")\n",
    "test.add_membrane(2, 3, multiset=\"ac\")\n",
    "test.add_membrane(2, 3, multiset=\"bbc\")\n",
    "test.add_membrane(2, 3, multiset=\"ccc\")\n",
    "test.add_membrane(3, 3, multiset=\"aa\")\n",
    "test.add_membrane(3, 3, multiset=\"bc\")\n",
    "test.add_membrane(3, 3, multiset=\"b\")\n",
    "\n",
    "test.add_rule(3, 'a', EVOLVE, 'b')\n",
    "test.add_rule(3, 'b', EVOLVE, 'c')\n",
    "test.add_rule(2, 'a', EVOLVE, 'b')\n",
    "test.add_rule(2, 'b', EVOLVE, 'c')"
   ]
  },
  {
   "cell_type": "code",
   "execution_count": 100,
   "metadata": {},
   "outputs": [
    {
     "data": {
      "text/plain": [
       "[1, 2, 3]"
      ]
     },
     "execution_count": 100,
     "metadata": {},
     "output_type": "execute_result"
    }
   ],
   "source": [
    "test.level2_membranes()"
   ]
  },
  {
   "cell_type": "code",
   "execution_count": 101,
   "metadata": {},
   "outputs": [
    {
     "data": {
      "text/plain": [
       "array([[1, 0, 0],\n",
       "       [0, 2, 0],\n",
       "       [0, 0, 1]], dtype=int16)"
      ]
     },
     "execution_count": 101,
     "metadata": {},
     "output_type": "execute_result"
    }
   ],
   "source": [
    "test.level2_submembranes_multisets(1)"
   ]
  },
  {
   "cell_type": "code",
   "execution_count": 102,
   "metadata": {},
   "outputs": [
    {
     "data": {
      "text/plain": [
       "[4, 5, 6, 7, 8, 9, 10, 11, 12]"
      ]
     },
     "execution_count": 102,
     "metadata": {},
     "output_type": "execute_result"
    }
   ],
   "source": [
    "test.level3_membranes()"
   ]
  },
  {
   "cell_type": "code",
   "execution_count": 103,
   "metadata": {},
   "outputs": [
    {
     "data": {
      "text/plain": [
       "array([2, 1, 0], dtype=int16)"
      ]
     },
     "execution_count": 103,
     "metadata": {},
     "output_type": "execute_result"
    }
   ],
   "source": [
    "test.level2_multiset(2)"
   ]
  },
  {
   "cell_type": "code",
   "execution_count": 104,
   "metadata": {},
   "outputs": [
    {
     "data": {
      "text/plain": [
       "(array([[0, 2, 0, 1],\n",
       "        [0, 3, 0, 1],\n",
       "        [1, 2, 0, 2],\n",
       "        [1, 3, 0, 2]]), array([ 0,  2, -1], dtype=int16))"
      ]
     },
     "execution_count": 104,
     "metadata": {},
     "output_type": "execute_result"
    }
   ],
   "source": [
    "# (object, membrane, ruletype, output object)\n",
    "test.ruleset()"
   ]
  },
  {
   "cell_type": "markdown",
   "metadata": {},
   "source": [
    "# Selection / Evolution Kernel"
   ]
  },
  {
   "cell_type": "code",
   "execution_count": 105,
   "metadata": {},
   "outputs": [],
   "source": [
    "@cuda.jit\n",
    "def selection_kernel(M_3, M_2, R, R_ndx, out, rulecount):\n",
    "    obj = cuda.threadIdx.x\n",
    "    mem_3 = cuda.threadIdx.y\n",
    "    mem_2 = cuda.blockIdx.x\n",
    "    \n",
    "    # TODO: flag to see if any rules were selected\n",
    "\n",
    "    # If rules for this object exist and if this object is in the multiset of this membrane:\n",
    "    if ((R_ndx[obj] >= 0) and (M_3[mem_2][mem_3][obj] > 0)):\n",
    "        # Iterate through all the relevant rules\n",
    "        for i in range(R_ndx[obj], rulecount):\n",
    "            # Once you encounter a rule for a new object, you're done\n",
    "            if (R[i][0] != obj):\n",
    "                break\n",
    "            # Select Level 2 rules as well, if the object is in its multiset\n",
    "            if ((R[i][1] == 2) and (M_2[mem_2][obj] > 0)):\n",
    "                out[i] = 1\n",
    "            # Only select 1 rule, then leave\n",
    "            if (R[i][1] == 3):\n",
    "                out[i] = 1\n",
    "                break"
   ]
  },
  {
   "cell_type": "code",
   "execution_count": 106,
   "metadata": {},
   "outputs": [],
   "source": [
    "R, R_ndx = test.ruleset()\n",
    "out = np.zeros(len(R), dtype=np.int16)\n",
    "\n",
    "mems_2 = test.level2_membranes()\n",
    "M_3 = np.dstack(\n",
    "    (test.level2_submembranes_multisets(i) for i in mems_2)\n",
    ")\n",
    "M_2 = np.vstack(\n",
    "    (test.level2_multiset(i) for i in mems_2)\n",
    ")"
   ]
  },
  {
   "cell_type": "code",
   "execution_count": 107,
   "metadata": {},
   "outputs": [],
   "source": [
    "blocks_per_grid = 3\n",
    "threads_per_block = (3,3)\n",
    "selection_kernel[blocks_per_grid, threads_per_block](M_3, M_2, R, R_ndx, out, len(R))"
   ]
  },
  {
   "cell_type": "code",
   "execution_count": 108,
   "metadata": {},
   "outputs": [
    {
     "data": {
      "text/plain": [
       "array([1, 1, 1, 1], dtype=int16)"
      ]
     },
     "execution_count": 108,
     "metadata": {},
     "output_type": "execute_result"
    }
   ],
   "source": [
    "out"
   ]
  },
  {
   "cell_type": "code",
   "execution_count": null,
   "metadata": {},
   "outputs": [],
   "source": []
  }
 ],
 "metadata": {
  "kernelspec": {
   "display_name": "Python 3",
   "language": "python",
   "name": "python3"
  },
  "language_info": {
   "codemirror_mode": {
    "name": "ipython",
    "version": 3
   },
   "file_extension": ".py",
   "mimetype": "text/x-python",
   "name": "python",
   "nbconvert_exporter": "python",
   "pygments_lexer": "ipython3",
   "version": "3.7.1"
  }
 },
 "nbformat": 4,
 "nbformat_minor": 2
}
