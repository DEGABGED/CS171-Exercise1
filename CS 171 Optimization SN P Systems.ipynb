{
 "cells": [
  {
   "cell_type": "code",
   "execution_count": 1,
   "metadata": {},
   "outputs": [],
   "source": [
    "import numpy as np\n",
    "from random import random as rand\n",
    "from math import floor\n",
    "from numba import cuda\n",
    "\n",
    "import matplotlib.pyplot as plt"
   ]
  },
  {
   "cell_type": "markdown",
   "metadata": {},
   "source": [
    "# Optimization SN P Systems"
   ]
  },
  {
   "cell_type": "code",
   "execution_count": 2,
   "metadata": {},
   "outputs": [],
   "source": [
    "threads_per_block = (32,32)\n",
    "blocks_per_grid = (4,4)\n",
    "H = 128\n",
    "m = 128\n",
    "runs = 250"
   ]
  },
  {
   "cell_type": "code",
   "execution_count": 3,
   "metadata": {},
   "outputs": [],
   "source": [
    "# Defining 2 fitness functions:\n",
    "# 1 is basic sum of components\n",
    "# 2 is knapsack problem\n",
    "\n",
    "def fitness(arr):\n",
    "    return np.sum(arr)\n",
    "\n",
    "omega = m*3\n",
    "K = m\n",
    "w = np.random.randint(1, omega, K)\n",
    "p = w + 0.5*omega\n",
    "C = 0.5*np.sum(w)\n",
    "\n",
    "def fitness_knapsack(arr):\n",
    "    knapsack = np.sum(np.multiply(arr, p))\n",
    "    load = np.sum(np.multiply(arr, w))\n",
    "    return knapsack if load <= C else -1"
   ]
  },
  {
   "cell_type": "code",
   "execution_count": 4,
   "metadata": {},
   "outputs": [],
   "source": [
    "# prob matrix P => chromosome matrix T\n",
    "# serial version\n",
    "\n",
    "def spike(P):\n",
    "    T = np.zeros((H, m))\n",
    "    for i in range(H):\n",
    "        for j in range(m):\n",
    "            if (rand() < P[i,j]):\n",
    "                T[i,j] = 1\n",
    "                \n",
    "    return T"
   ]
  },
  {
   "cell_type": "code",
   "execution_count": 6,
   "metadata": {},
   "outputs": [],
   "source": [
    "# generate fitness vector of chromosomes\n",
    "# return the most fit chromie\n",
    "\n",
    "def fitness_vector(T):\n",
    "    F = [fitness_knapsack(T[i]) for i in range(H)]\n",
    "    return F\n",
    "\n",
    "def fitness_argmax(F):\n",
    "    arg = 0\n",
    "    for i in range(1, H):\n",
    "        arg = i if F[i] > F[arg] else arg\n",
    "    return arg"
   ]
  },
  {
   "cell_type": "code",
   "execution_count": 7,
   "metadata": {},
   "outputs": [],
   "source": [
    "# chromosome matrix T, prob matrix P, fitness vector F => new prob matrix P\n",
    "# serial version\n",
    "\n",
    "def guide(T, P, F, F_argmax):\n",
    "    for i in range(H):\n",
    "        for j in range(m):\n",
    "            if (rand() < a[j]):\n",
    "                k1, k2 = i, i\n",
    "                while (k1 == i or k2 == i):\n",
    "                    k1, k2 = [floor(rand() * H) for i in range(2)]\n",
    "                b = T[k1,j] if F[k1] > F[k2] else T[k2,j]\n",
    "                P[i,j] = P[i,j] + delta if b > 0.5 else P[i,j] - delta\n",
    "            else:\n",
    "                P[i,j] = P[i,j] + delta if T[F_argmax,j] > 0.5 else P[i,j] - delta\n",
    "            \n",
    "            # Adjustments\n",
    "            if P[i,j] > 1:\n",
    "                P[i,j] -= delta\n",
    "            if P[i,j] < 0:\n",
    "                P[i,j] += delta\n",
    "    return P"
   ]
  },
  {
   "cell_type": "markdown",
   "metadata": {},
   "source": [
    "## Parallel versions of spiking and guiding"
   ]
  },
  {
   "cell_type": "code",
   "execution_count": 5,
   "metadata": {},
   "outputs": [],
   "source": [
    "# prob matrix P => chromosome matrix T\n",
    "# serial version\n",
    "\n",
    "@cuda.jit\n",
    "def parallel_spike(P,Rand,T):\n",
    "    tx = cuda.threadIdx.x\n",
    "    ty = cuda.threadIdx.y\n",
    "    bx = cuda.blockIdx.x\n",
    "    by = cuda.blockIdx.y\n",
    "    \n",
    "    # Set as squares\n",
    "    block_size_x = cuda.blockDim.x\n",
    "    block_size_y = cuda.blockDim.y\n",
    "    grid_size_x = cuda.gridDim.x\n",
    "    grid_size_y = cuda.gridDim.y\n",
    "\n",
    "    # For matrices larger than the grid\n",
    "    start_x = block_size_x * bx + tx\n",
    "    start_y = block_size_y * by + ty\n",
    "    stride_x = block_size_x * grid_size_x\n",
    "    stride_y = block_size_y * grid_size_y\n",
    "    \n",
    "    for x in range(start_x, P.shape[0], stride_x):\n",
    "        for y in range(start_y,P.shape[1],stride_y):\n",
    "            T[x,y] = 1 if Rand[0,x,y] < P[x,y] else 0"
   ]
  },
  {
   "cell_type": "code",
   "execution_count": 8,
   "metadata": {},
   "outputs": [],
   "source": [
    "@cuda.jit\n",
    "def parallel_guide(T, P, F, F_argmax, a, delta, Rand, Randbit):\n",
    "    tx = cuda.threadIdx.x\n",
    "    ty = cuda.threadIdx.y\n",
    "    bx = cuda.blockIdx.x\n",
    "    by = cuda.blockIdx.y\n",
    "    \n",
    "    # Set as squares\n",
    "    block_size_x = cuda.blockDim.x\n",
    "    block_size_y = cuda.blockDim.y\n",
    "    grid_size_x = cuda.gridDim.x\n",
    "    grid_size_y = cuda.gridDim.y\n",
    "\n",
    "    # For matrices larger than the grid\n",
    "    start_x = block_size_x * bx + tx\n",
    "    start_y = block_size_y * by + ty\n",
    "    stride_x = block_size_x * grid_size_x\n",
    "    stride_y = block_size_y * grid_size_y\n",
    "    \n",
    "    # Redefine some things\n",
    "    H, m = P.shape\n",
    "\n",
    "    for x in range(start_x, H, stride_x):\n",
    "        for y in range(start_y, m, stride_y):\n",
    "            if(Rand[1,x,y] < a[y]):\n",
    "                P[x,y] = P[x,y] + delta if Randbit[x,y] > 0.5 else P[x,y] - delta\n",
    "            else:\n",
    "                P[x,y] = P[x,y] + delta if T[F_argmax,y] > 0.5 else P[x,y] - delta\n",
    "            if P[x,y] > 1:\n",
    "                P[x,y] -= delta\n",
    "            if P[x,y] < 0:\n",
    "                P[x,y] += delta"
   ]
  },
  {
   "cell_type": "code",
   "execution_count": 9,
   "metadata": {},
   "outputs": [],
   "source": [
    "@cuda.jit\n",
    "def parallel_guide_striding(T, P, F, F_argmax, a, delta, Rand):\n",
    "    tx = cuda.threadIdx.x\n",
    "    ty = cuda.threadIdx.y\n",
    "    bx = cuda.blockIdx.x\n",
    "    by = cuda.blockIdx.y\n",
    "    \n",
    "    # Set as squares\n",
    "    block_size_x = cuda.blockDim.x\n",
    "    block_size_y = cuda.blockDim.y\n",
    "    grid_size_x = cuda.gridDim.x\n",
    "    grid_size_y = cuda.gridDim.y\n",
    "\n",
    "    # For matrices larger than the grid\n",
    "    start_x = block_size_x * bx + tx\n",
    "    start_y = block_size_y * by + ty\n",
    "    stride_x = block_size_x * grid_size_x\n",
    "    stride_y = block_size_y * grid_size_y\n",
    "    \n",
    "    # Redefine some things\n",
    "    H, m = P.shape\n",
    "    ctr = 0\n",
    "\n",
    "    for x in range(start_x, H, stride_x):\n",
    "        page_end = (ctr+1)*stride_x if (ctr+1)*stride_x < H else H\n",
    "        page_start = ctr*stride_x\n",
    "        page_size = page_end - page_start\n",
    "        for y in range(start_y, m, stride_y):\n",
    "            if(Rand[1,x,y] < a[y]):\n",
    "                # MAKE SURE YOU'RE ONLY GETTING CHROMOSOMES FROM LOADED MEMORY\n",
    "                k1 = (int)(Rand[2,x,y]*page_size + page_start)\n",
    "                k2 = (int)(Rand[3,x,y]*page_size + page_start)\n",
    "                if F[k1] > F[k2]:\n",
    "                    b = T[k1,y]\n",
    "                else:\n",
    "                    b = T[k2,y]\n",
    "                P[x,y] = P[x,y] + delta if b > 0.5 else P[x,y] - delta\n",
    "            else:\n",
    "                P[x,y] = P[x,y] + delta if T[F_argmax,y] > 0.5 else P[x,y] - delta\n",
    "\n",
    "            if P[x,y] > 1:\n",
    "                P[x,y] -= delta\n",
    "            if P[x,y] < 0:\n",
    "                P[x,y] += delta\n",
    "        ctr += 1"
   ]
  },
  {
   "cell_type": "markdown",
   "metadata": {},
   "source": [
    "## Serial"
   ]
  },
  {
   "cell_type": "code",
   "execution_count": 9,
   "metadata": {},
   "outputs": [],
   "source": [
    "# Define the initial probability array and learning rate\n",
    "P = np.random.random_sample((H, m))\n",
    "a = 0.15 * np.random.random_sample(m) + 0.05\n",
    "delta = 0.015 * rand() + 0.005"
   ]
  },
  {
   "cell_type": "code",
   "execution_count": 33,
   "metadata": {},
   "outputs": [],
   "source": [
    "# game loop\n",
    "# initial fitness\n",
    "\n",
    "T = spike(P)\n",
    "F = fitness_vector(T)\n",
    "\n",
    "ave_fitness = []\n",
    "ave_fitness.append(np.mean(F))\n",
    "\n",
    "max_fitness = []\n",
    "max_fitness.append(np.max(F))"
   ]
  },
  {
   "cell_type": "code",
   "execution_count": 34,
   "metadata": {
    "scrolled": true
   },
   "outputs": [],
   "source": [
    "for r in range(runs):\n",
    "    guide(T, P, F, fitness_argmax(F))\n",
    "    T = spike(P)\n",
    "    F = fitness_vector(T)\n",
    "    ave_fitness.append(np.mean(F))\n",
    "    max_fitness.append(np.max(F))"
   ]
  },
  {
   "cell_type": "code",
   "execution_count": 35,
   "metadata": {},
   "outputs": [
    {
     "data": {
      "text/plain": [
       "[<matplotlib.lines.Line2D at 0x158520a0358>]"
      ]
     },
     "execution_count": 35,
     "metadata": {},
     "output_type": "execute_result"
    },
    {
     "data": {
      "image/png": "[encoded data removed]",
      "text/plain": [
       "<Figure size 432x288 with 1 Axes>"
      ]
     },
     "metadata": {
      "needs_background": "light"
     },
     "output_type": "display_data"
    }
   ],
   "source": [
    "plt.plot(np.arange(runs+1), max_fitness)"
   ]
  },
  {
   "cell_type": "markdown",
   "metadata": {},
   "source": [
    "## Parallel"
   ]
  },
  {
   "cell_type": "code",
   "execution_count": 33,
   "metadata": {},
   "outputs": [],
   "source": [
    "# Define the initial probability array and learning rate\n",
    "P = np.random.random_sample((H, m))\n",
    "P_device = cuda.to_device(P)\n",
    "\n",
    "a = 0.15 * np.random.random_sample(m) + 0.05\n",
    "a_device = cuda.to_device(a)\n",
    "delta = 0.015 * rand() + 0.005"
   ]
  },
  {
   "cell_type": "code",
   "execution_count": 34,
   "metadata": {},
   "outputs": [],
   "source": [
    "# game loop\n",
    "# initial fitness\n",
    "\n",
    "T = np.zeros((H,m))\n",
    "T_device = cuda.to_device(T)\n",
    "Rand = np.random.random_sample((1, H, m))\n",
    "Rand_device = cuda.to_device(Rand)\n",
    "\n",
    "parallel_spike[blocks_per_grid, threads_per_block](P_device,Rand_device,T_device)\n",
    "F = fitness_vector(T_device.copy_to_host())\n",
    "\n",
    "ave_fitness = []\n",
    "ave_fitness.append(np.mean(F))\n",
    "\n",
    "max_fitness = []\n",
    "max_fitness.append(np.max(F))"
   ]
  },
  {
   "cell_type": "code",
   "execution_count": 35,
   "metadata": {
    "scrolled": true
   },
   "outputs": [
    {
     "ename": "CudaAPIError",
     "evalue": "[701] Call to cuLaunchKernel results in CUDA_ERROR_LAUNCH_OUT_OF_RESOURCES",
     "output_type": "error",
     "traceback": [
      "\u001b[1;31m---------------------------------------------------------------------------\u001b[0m",
      "\u001b[1;31mCudaAPIError\u001b[0m                              Traceback (most recent call last)",
      "\u001b[1;32m<ipython-input-35-0dd4aceb709f>\u001b[0m in \u001b[0;36m<module>\u001b[1;34m\u001b[0m\n\u001b[0;32m     26\u001b[0m     \u001b[0mF_argmax\u001b[0m \u001b[1;33m=\u001b[0m \u001b[0mfitness_argmax\u001b[0m\u001b[1;33m(\u001b[0m\u001b[0mF\u001b[0m\u001b[1;33m)\u001b[0m\u001b[1;33m\u001b[0m\u001b[1;33m\u001b[0m\u001b[0m\n\u001b[0;32m     27\u001b[0m     \u001b[0mF_device\u001b[0m \u001b[1;33m=\u001b[0m \u001b[0mcuda\u001b[0m\u001b[1;33m.\u001b[0m\u001b[0mto_device\u001b[0m\u001b[1;33m(\u001b[0m\u001b[0mF\u001b[0m\u001b[1;33m)\u001b[0m\u001b[1;33m\u001b[0m\u001b[1;33m\u001b[0m\u001b[0m\n\u001b[1;32m---> 28\u001b[1;33m     \u001b[0mparallel_guide\u001b[0m\u001b[1;33m[\u001b[0m\u001b[0mblocks_per_grid\u001b[0m\u001b[1;33m,\u001b[0m \u001b[0mthreads_per_block\u001b[0m\u001b[1;33m]\u001b[0m\u001b[1;33m(\u001b[0m\u001b[0mT_device\u001b[0m\u001b[1;33m,\u001b[0m\u001b[0mP_device\u001b[0m\u001b[1;33m,\u001b[0m\u001b[0mF_device\u001b[0m\u001b[1;33m,\u001b[0m\u001b[0mF_argmax\u001b[0m\u001b[1;33m,\u001b[0m\u001b[0ma_device\u001b[0m\u001b[1;33m,\u001b[0m\u001b[0mdelta\u001b[0m\u001b[1;33m,\u001b[0m\u001b[0mRand_device\u001b[0m\u001b[1;33m,\u001b[0m\u001b[0mRandbit_device\u001b[0m\u001b[1;33m)\u001b[0m\u001b[1;33m\u001b[0m\u001b[1;33m\u001b[0m\u001b[0m\n\u001b[0m\u001b[0;32m     29\u001b[0m     \u001b[0mparallel_spike\u001b[0m\u001b[1;33m[\u001b[0m\u001b[0mblocks_per_grid\u001b[0m\u001b[1;33m,\u001b[0m \u001b[0mthreads_per_block\u001b[0m\u001b[1;33m]\u001b[0m\u001b[1;33m(\u001b[0m\u001b[0mP_device\u001b[0m\u001b[1;33m,\u001b[0m\u001b[0mRand_device\u001b[0m\u001b[1;33m,\u001b[0m\u001b[0mT_device\u001b[0m\u001b[1;33m)\u001b[0m\u001b[1;33m\u001b[0m\u001b[1;33m\u001b[0m\u001b[0m\n\u001b[0;32m     30\u001b[0m \u001b[1;33m\u001b[0m\u001b[0m\n",
      "\u001b[1;32m~\\Miniconda3\\lib\\site-packages\\numba\\cuda\\compiler.py\u001b[0m in \u001b[0;36m__call__\u001b[1;34m(self, *args)\u001b[0m\n\u001b[0;32m    765\u001b[0m         \u001b[0mkernel\u001b[0m \u001b[1;33m=\u001b[0m \u001b[0mself\u001b[0m\u001b[1;33m.\u001b[0m\u001b[0mspecialize\u001b[0m\u001b[1;33m(\u001b[0m\u001b[1;33m*\u001b[0m\u001b[0margs\u001b[0m\u001b[1;33m)\u001b[0m\u001b[1;33m\u001b[0m\u001b[1;33m\u001b[0m\u001b[0m\n\u001b[0;32m    766\u001b[0m         \u001b[0mcfg\u001b[0m \u001b[1;33m=\u001b[0m \u001b[0mkernel\u001b[0m\u001b[1;33m[\u001b[0m\u001b[0mself\u001b[0m\u001b[1;33m.\u001b[0m\u001b[0mgriddim\u001b[0m\u001b[1;33m,\u001b[0m \u001b[0mself\u001b[0m\u001b[1;33m.\u001b[0m\u001b[0mblockdim\u001b[0m\u001b[1;33m,\u001b[0m \u001b[0mself\u001b[0m\u001b[1;33m.\u001b[0m\u001b[0mstream\u001b[0m\u001b[1;33m,\u001b[0m \u001b[0mself\u001b[0m\u001b[1;33m.\u001b[0m\u001b[0msharedmem\u001b[0m\u001b[1;33m]\u001b[0m\u001b[1;33m\u001b[0m\u001b[1;33m\u001b[0m\u001b[0m\n\u001b[1;32m--> 767\u001b[1;33m         \u001b[0mcfg\u001b[0m\u001b[1;33m(\u001b[0m\u001b[1;33m*\u001b[0m\u001b[0margs\u001b[0m\u001b[1;33m)\u001b[0m\u001b[1;33m\u001b[0m\u001b[1;33m\u001b[0m\u001b[0m\n\u001b[0m\u001b[0;32m    768\u001b[0m \u001b[1;33m\u001b[0m\u001b[0m\n\u001b[0;32m    769\u001b[0m     \u001b[1;32mdef\u001b[0m \u001b[0mspecialize\u001b[0m\u001b[1;33m(\u001b[0m\u001b[0mself\u001b[0m\u001b[1;33m,\u001b[0m \u001b[1;33m*\u001b[0m\u001b[0margs\u001b[0m\u001b[1;33m)\u001b[0m\u001b[1;33m:\u001b[0m\u001b[1;33m\u001b[0m\u001b[1;33m\u001b[0m\u001b[0m\n",
      "\u001b[1;32m~\\Miniconda3\\lib\\site-packages\\numba\\cuda\\compiler.py\u001b[0m in \u001b[0;36m__call__\u001b[1;34m(self, *args, **kwargs)\u001b[0m\n\u001b[0;32m    495\u001b[0m                           \u001b[0mblockdim\u001b[0m\u001b[1;33m=\u001b[0m\u001b[0mself\u001b[0m\u001b[1;33m.\u001b[0m\u001b[0mblockdim\u001b[0m\u001b[1;33m,\u001b[0m\u001b[1;33m\u001b[0m\u001b[1;33m\u001b[0m\u001b[0m\n\u001b[0;32m    496\u001b[0m                           \u001b[0mstream\u001b[0m\u001b[1;33m=\u001b[0m\u001b[0mself\u001b[0m\u001b[1;33m.\u001b[0m\u001b[0mstream\u001b[0m\u001b[1;33m,\u001b[0m\u001b[1;33m\u001b[0m\u001b[1;33m\u001b[0m\u001b[0m\n\u001b[1;32m--> 497\u001b[1;33m                           sharedmem=self.sharedmem)\n\u001b[0m\u001b[0;32m    498\u001b[0m \u001b[1;33m\u001b[0m\u001b[0m\n\u001b[0;32m    499\u001b[0m     \u001b[1;32mdef\u001b[0m \u001b[0mbind\u001b[0m\u001b[1;33m(\u001b[0m\u001b[0mself\u001b[0m\u001b[1;33m)\u001b[0m\u001b[1;33m:\u001b[0m\u001b[1;33m\u001b[0m\u001b[1;33m\u001b[0m\u001b[0m\n",
      "\u001b[1;32m~\\Miniconda3\\lib\\site-packages\\numba\\cuda\\compiler.py\u001b[0m in \u001b[0;36m_kernel_call\u001b[1;34m(self, args, griddim, blockdim, stream, sharedmem)\u001b[0m\n\u001b[0;32m    569\u001b[0m                                    sharedmem=sharedmem)\n\u001b[0;32m    570\u001b[0m         \u001b[1;31m# Invoke kernel\u001b[0m\u001b[1;33m\u001b[0m\u001b[1;33m\u001b[0m\u001b[1;33m\u001b[0m\u001b[0m\n\u001b[1;32m--> 571\u001b[1;33m         \u001b[0mcu_func\u001b[0m\u001b[1;33m(\u001b[0m\u001b[1;33m*\u001b[0m\u001b[0mkernelargs\u001b[0m\u001b[1;33m)\u001b[0m\u001b[1;33m\u001b[0m\u001b[1;33m\u001b[0m\u001b[0m\n\u001b[0m\u001b[0;32m    572\u001b[0m \u001b[1;33m\u001b[0m\u001b[0m\n\u001b[0;32m    573\u001b[0m         \u001b[1;32mif\u001b[0m \u001b[0mself\u001b[0m\u001b[1;33m.\u001b[0m\u001b[0mdebug\u001b[0m\u001b[1;33m:\u001b[0m\u001b[1;33m\u001b[0m\u001b[1;33m\u001b[0m\u001b[0m\n",
      "\u001b[1;32m~\\Miniconda3\\lib\\site-packages\\numba\\cuda\\cudadrv\\driver.py\u001b[0m in \u001b[0;36m__call__\u001b[1;34m(self, *args)\u001b[0m\n\u001b[0;32m   1512\u001b[0m \u001b[1;33m\u001b[0m\u001b[0m\n\u001b[0;32m   1513\u001b[0m         launch_kernel(self.handle, self.griddim, self.blockdim,\n\u001b[1;32m-> 1514\u001b[1;33m                       self.sharedmem, streamhandle, args)\n\u001b[0m\u001b[0;32m   1515\u001b[0m \u001b[1;33m\u001b[0m\u001b[0m\n\u001b[0;32m   1516\u001b[0m     \u001b[1;33m@\u001b[0m\u001b[0mproperty\u001b[0m\u001b[1;33m\u001b[0m\u001b[1;33m\u001b[0m\u001b[0m\n",
      "\u001b[1;32m~\\Miniconda3\\lib\\site-packages\\numba\\cuda\\cudadrv\\driver.py\u001b[0m in \u001b[0;36mlaunch_kernel\u001b[1;34m(cufunc_handle, griddim, blockdim, sharedmem, hstream, args)\u001b[0m\n\u001b[0;32m   1556\u001b[0m                           \u001b[0mhstream\u001b[0m\u001b[1;33m,\u001b[0m\u001b[1;33m\u001b[0m\u001b[1;33m\u001b[0m\u001b[0m\n\u001b[0;32m   1557\u001b[0m                           \u001b[0mparams\u001b[0m\u001b[1;33m,\u001b[0m\u001b[1;33m\u001b[0m\u001b[1;33m\u001b[0m\u001b[0m\n\u001b[1;32m-> 1558\u001b[1;33m                           None)\n\u001b[0m\u001b[0;32m   1559\u001b[0m \u001b[1;33m\u001b[0m\u001b[0m\n\u001b[0;32m   1560\u001b[0m \u001b[1;33m\u001b[0m\u001b[0m\n",
      "\u001b[1;32m~\\Miniconda3\\lib\\site-packages\\numba\\cuda\\cudadrv\\driver.py\u001b[0m in \u001b[0;36msafe_cuda_api_call\u001b[1;34m(*args)\u001b[0m\n\u001b[0;32m    288\u001b[0m             \u001b[0m_logger\u001b[0m\u001b[1;33m.\u001b[0m\u001b[0mdebug\u001b[0m\u001b[1;33m(\u001b[0m\u001b[1;34m'call driver api: %s'\u001b[0m\u001b[1;33m,\u001b[0m \u001b[0mlibfn\u001b[0m\u001b[1;33m.\u001b[0m\u001b[0m__name__\u001b[0m\u001b[1;33m)\u001b[0m\u001b[1;33m\u001b[0m\u001b[1;33m\u001b[0m\u001b[0m\n\u001b[0;32m    289\u001b[0m             \u001b[0mretcode\u001b[0m \u001b[1;33m=\u001b[0m \u001b[0mlibfn\u001b[0m\u001b[1;33m(\u001b[0m\u001b[1;33m*\u001b[0m\u001b[0margs\u001b[0m\u001b[1;33m)\u001b[0m\u001b[1;33m\u001b[0m\u001b[1;33m\u001b[0m\u001b[0m\n\u001b[1;32m--> 290\u001b[1;33m             \u001b[0mself\u001b[0m\u001b[1;33m.\u001b[0m\u001b[0m_check_error\u001b[0m\u001b[1;33m(\u001b[0m\u001b[0mfname\u001b[0m\u001b[1;33m,\u001b[0m \u001b[0mretcode\u001b[0m\u001b[1;33m)\u001b[0m\u001b[1;33m\u001b[0m\u001b[1;33m\u001b[0m\u001b[0m\n\u001b[0m\u001b[0;32m    291\u001b[0m         \u001b[1;32mreturn\u001b[0m \u001b[0msafe_cuda_api_call\u001b[0m\u001b[1;33m\u001b[0m\u001b[1;33m\u001b[0m\u001b[0m\n\u001b[0;32m    292\u001b[0m \u001b[1;33m\u001b[0m\u001b[0m\n",
      "\u001b[1;32m~\\Miniconda3\\lib\\site-packages\\numba\\cuda\\cudadrv\\driver.py\u001b[0m in \u001b[0;36m_check_error\u001b[1;34m(self, fname, retcode)\u001b[0m\n\u001b[0;32m    323\u001b[0m                     \u001b[0m_logger\u001b[0m\u001b[1;33m.\u001b[0m\u001b[0mcritical\u001b[0m\u001b[1;33m(\u001b[0m\u001b[0mmsg\u001b[0m\u001b[1;33m,\u001b[0m \u001b[0m_getpid\u001b[0m\u001b[1;33m(\u001b[0m\u001b[1;33m)\u001b[0m\u001b[1;33m,\u001b[0m \u001b[0mself\u001b[0m\u001b[1;33m.\u001b[0m\u001b[0mpid\u001b[0m\u001b[1;33m)\u001b[0m\u001b[1;33m\u001b[0m\u001b[1;33m\u001b[0m\u001b[0m\n\u001b[0;32m    324\u001b[0m                     \u001b[1;32mraise\u001b[0m \u001b[0mCudaDriverError\u001b[0m\u001b[1;33m(\u001b[0m\u001b[1;34m\"CUDA initialized before forking\"\u001b[0m\u001b[1;33m)\u001b[0m\u001b[1;33m\u001b[0m\u001b[1;33m\u001b[0m\u001b[0m\n\u001b[1;32m--> 325\u001b[1;33m             \u001b[1;32mraise\u001b[0m \u001b[0mCudaAPIError\u001b[0m\u001b[1;33m(\u001b[0m\u001b[0mretcode\u001b[0m\u001b[1;33m,\u001b[0m \u001b[0mmsg\u001b[0m\u001b[1;33m)\u001b[0m\u001b[1;33m\u001b[0m\u001b[1;33m\u001b[0m\u001b[0m\n\u001b[0m\u001b[0;32m    326\u001b[0m \u001b[1;33m\u001b[0m\u001b[0m\n\u001b[0;32m    327\u001b[0m     \u001b[1;32mdef\u001b[0m \u001b[0mget_device\u001b[0m\u001b[1;33m(\u001b[0m\u001b[0mself\u001b[0m\u001b[1;33m,\u001b[0m \u001b[0mdevnum\u001b[0m\u001b[1;33m=\u001b[0m\u001b[1;36m0\u001b[0m\u001b[1;33m)\u001b[0m\u001b[1;33m:\u001b[0m\u001b[1;33m\u001b[0m\u001b[1;33m\u001b[0m\u001b[0m\n",
      "\u001b[1;31mCudaAPIError\u001b[0m: [701] Call to cuLaunchKernel results in CUDA_ERROR_LAUNCH_OUT_OF_RESOURCES"
     ]
    }
   ],
   "source": [
    "for r in range(runs):\n",
    "    Rand = np.random.random_sample((2, H, m))\n",
    "    Rand_tmp = np.random.randint(H, size=(2, H, m))\n",
    "    \n",
    "    # Preprocess the crossover\n",
    "    Ttmp = T_device.copy_to_host()\n",
    "    Rand_chromo = [\n",
    "        [\n",
    "            Rand_tmp[0,i,j] if F[Rand_tmp[0,i,j]] > F[Rand_tmp[1,i,j]] else Rand_tmp[1,i,j]\n",
    "            for j in range(m)\n",
    "        ]\n",
    "        for i in range(H)\n",
    "    ]\n",
    "\n",
    "    Randbit = np.array([\n",
    "        [\n",
    "            Ttmp[Rand_chromo[i][j],j]\n",
    "            for j in range(m)\n",
    "        ]\n",
    "        for i in range(H)\n",
    "    ])\n",
    "    \n",
    "    Rand_device = cuda.to_device(Rand)\n",
    "    Randbit_device = cuda.to_device(Randbit)\n",
    "\n",
    "    F_argmax = fitness_argmax(F)\n",
    "    F_device = cuda.to_device(F)\n",
    "    parallel_guide[blocks_per_grid, threads_per_block](T_device,P_device,F_device,F_argmax,a_device,delta,Rand_device,Randbit_device)\n",
    "    parallel_spike[blocks_per_grid, threads_per_block](P_device,Rand_device,T_device)\n",
    "\n",
    "    F = fitness_vector(T_device.copy_to_host())\n",
    "    ave_fitness.append(np.mean(F))\n",
    "    max_fitness.append(np.max(F))"
   ]
  },
  {
   "cell_type": "code",
   "execution_count": 32,
   "metadata": {},
   "outputs": [
    {
     "data": {
      "text/plain": [
       "[<matplotlib.lines.Line2D at 0x1bdc0a1d2b0>]"
      ]
     },
     "execution_count": 32,
     "metadata": {},
     "output_type": "execute_result"
    },
    {
     "data": {
      "image/png": "[encoded data removed]",
      "text/plain": [
       "<Figure size 432x288 with 1 Axes>"
      ]
     },
     "metadata": {
      "needs_background": "light"
     },
     "output_type": "display_data"
    }
   ],
   "source": [
    "plt.plot(np.arange(runs+1), max_fitness)"
   ]
  },
  {
   "cell_type": "code",
   "execution_count": null,
   "metadata": {},
   "outputs": [],
   "source": []
  }
 ],
 "metadata": {
  "kernelspec": {
   "display_name": "Python 3",
   "language": "python",
   "name": "python3"
  },
  "language_info": {
   "codemirror_mode": {
    "name": "ipython",
    "version": 3
   },
   "file_extension": ".py",
   "mimetype": "text/x-python",
   "name": "python",
   "nbconvert_exporter": "python",
   "pygments_lexer": "ipython3",
   "version": "3.7.1"
  }
 },
 "nbformat": 4,
 "nbformat_minor": 2
}
