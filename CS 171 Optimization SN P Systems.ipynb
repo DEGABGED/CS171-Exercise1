{
 "cells": [
  {
   "cell_type": "code",
   "execution_count": 1,
   "metadata": {},
   "outputs": [],
   "source": [
    "import numpy as np\n",
    "from random import random as rand\n",
    "from math import floor\n",
    "from numba import cuda\n",
    "\n",
    "import matplotlib.pyplot as plt"
   ]
  },
  {
   "cell_type": "markdown",
   "metadata": {},
   "source": [
    "# Optimization SN P Systems"
   ]
  },
  {
   "cell_type": "code",
   "execution_count": 14,
   "metadata": {},
   "outputs": [],
   "source": [
    "threads_per_block = (32,32)\n",
    "blocks_per_grid = (4,4)\n",
    "H = 128\n",
    "m = 128\n",
    "runs = 250"
   ]
  },
  {
   "cell_type": "code",
   "execution_count": 15,
   "metadata": {},
   "outputs": [],
   "source": [
    "# Defining 2 fitness functions:\n",
    "# 1 is basic sum of components\n",
    "# 2 is knapsack problem\n",
    "\n",
    "def fitness(arr):\n",
    "    return np.sum(arr)\n",
    "\n",
    "omega = m*3\n",
    "K = m\n",
    "w = np.random.randint(1, omega, K)\n",
    "p = w + 0.5*omega\n",
    "C = 0.5*np.sum(w)\n",
    "\n",
    "def fitness_knapsack(arr):\n",
    "    knapsack = np.sum(np.multiply(arr, p))\n",
    "    load = np.sum(np.multiply(arr, w))\n",
    "    return knapsack if load <= C else -1"
   ]
  },
  {
   "cell_type": "code",
   "execution_count": 16,
   "metadata": {},
   "outputs": [],
   "source": [
    "# prob matrix P => chromosome matrix T\n",
    "# serial version\n",
    "\n",
    "def spike(P):\n",
    "    T = np.zeros((H, m))\n",
    "    for i in range(H):\n",
    "        for j in range(m):\n",
    "            if (rand() < P[i,j]):\n",
    "                T[i,j] = 1\n",
    "                \n",
    "    return T"
   ]
  },
  {
   "cell_type": "code",
   "execution_count": 17,
   "metadata": {},
   "outputs": [],
   "source": [
    "# prob matrix P => chromosome matrix T\n",
    "# serial version\n",
    "\n",
    "@cuda.jit\n",
    "def parallel_spike(P,Rand,T):\n",
    "    tx = cuda.threadIdx.x\n",
    "    ty = cuda.threadIdx.y\n",
    "    bx = cuda.blockIdx.x\n",
    "    by = cuda.blockIdx.y\n",
    "    \n",
    "    # Set as squares\n",
    "    block_size = cuda.blockDim.x\n",
    "    grid_size = cuda.gridDim.x    \n",
    "    \n",
    "#     start = tx + ty * block_size\n",
    "#     stride = block_size * grid_size\n",
    "    x = block_size * bx + tx\n",
    "    y = block_size * by + ty\n",
    "    \n",
    "#     for i in range(start, P.shape[0], stride):\n",
    "#         for j in range(start,P.shape[0],stride):\n",
    "    T[x,y] = 1 if Rand[x,y] < P[x,y] else 0"
   ]
  },
  {
   "cell_type": "code",
   "execution_count": 18,
   "metadata": {},
   "outputs": [],
   "source": [
    "# generate fitness vector of chromosomes\n",
    "# return the most fit chromie\n",
    "\n",
    "def fitness_vector(T):\n",
    "    F = [fitness_knapsack(T[i]) for i in range(H)]\n",
    "    return F\n",
    "\n",
    "def fitness_argmax(F):\n",
    "    arg = 0\n",
    "    for i in range(1, H):\n",
    "        arg = i if F[i] > F[arg] else arg\n",
    "    return arg"
   ]
  },
  {
   "cell_type": "code",
   "execution_count": 19,
   "metadata": {},
   "outputs": [],
   "source": [
    "# chromosome matrix T, prob matrix P, fitness vector F => new prob matrix P\n",
    "# serial version\n",
    "\n",
    "def guide(T, P, F, F_argmax):\n",
    "    for i in range(H):\n",
    "        for j in range(m):\n",
    "            if (rand() < a[j]):\n",
    "                k1, k2 = i, i\n",
    "                while (k1 == i or k2 == i):\n",
    "                    k1, k2 = [floor(rand() * H) for i in range(2)]\n",
    "                b = T[k1,j] if F[k1] > F[k2] else T[k2,j]\n",
    "                P[i,j] = P[i,j] + delta if b > 0.5 else P[i,j] - delta\n",
    "            else:\n",
    "                P[i,j] = P[i,j] + delta if T[F_argmax,j] > 0.5 else P[i,j] - delta\n",
    "            \n",
    "            # Adjustments\n",
    "            if P[i,j] > 1:\n",
    "                P[i,j] -= delta\n",
    "            if P[i,j] < 0:\n",
    "                P[i,j] += delta\n",
    "    return P"
   ]
  },
  {
   "cell_type": "code",
   "execution_count": 20,
   "metadata": {},
   "outputs": [],
   "source": [
    "@cuda.jit\n",
    "def parallel_guide(T, P, F, F_argmax, a, delta, Rand1, Rand2, Rand3):\n",
    "\n",
    "    tx = cuda.threadIdx.x\n",
    "    ty = cuda.threadIdx.y\n",
    "    bx = cuda.blockIdx.x\n",
    "    by = cuda.blockIdx.y\n",
    "    \n",
    "    # Set as squares\n",
    "    block_size = cuda.blockDim.x\n",
    "    grid_size = cuda.gridDim.x    \n",
    "    \n",
    "#     start = tx + ty * block_size\n",
    "#     stride = block_size * grid_size\n",
    "    x = block_size * bx + tx\n",
    "    y = block_size * by + ty \n",
    "\n",
    "    if(Rand1[x,y] < a[y]):\n",
    "        k1 = (int)(Rand2[x,y]*H)\n",
    "        k2 = (int)(Rand3[x,y]*H)\n",
    "        b = T[k1,y] if F[k1] > F[k2] else T[k2,y]\n",
    "        P[x,y] = P[x,y] + delta if b > 0.5 else P[x,y] - delta\n",
    "    else:\n",
    "        P[x,y] = P[x,y] + delta if T[F_argmax,y] > 0.5 else P[x,y] - delta\n",
    "        \n",
    "    if P[x,y] > 1:\n",
    "        P[x,y] -= delta\n",
    "    if P[x,y] < 0:\n",
    "        P[x,y] += delta"
   ]
  },
  {
   "cell_type": "markdown",
   "metadata": {},
   "source": [
    "## Serial"
   ]
  },
  {
   "cell_type": "code",
   "execution_count": 47,
   "metadata": {},
   "outputs": [],
   "source": [
    "# Define the initial probability array and learning rate\n",
    "P = np.random.random_sample((H, m))\n",
    "a = 0.15 * np.random.random_sample(m) + 0.05\n",
    "delta = 0.015 * rand() + 0.005"
   ]
  },
  {
   "cell_type": "code",
   "execution_count": 33,
   "metadata": {},
   "outputs": [],
   "source": [
    "# game loop\n",
    "# initial fitness\n",
    "\n",
    "T = spike(P)\n",
    "F = fitness_vector(T)\n",
    "\n",
    "ave_fitness = []\n",
    "ave_fitness.append(np.mean(F))\n",
    "\n",
    "max_fitness = []\n",
    "max_fitness.append(np.max(F))"
   ]
  },
  {
   "cell_type": "code",
   "execution_count": 34,
   "metadata": {
    "scrolled": true
   },
   "outputs": [],
   "source": [
    "for r in range(runs):\n",
    "    guide(T, P, F, fitness_argmax(F))\n",
    "    T = spike(P)\n",
    "    F = fitness_vector(T)\n",
    "    ave_fitness.append(np.mean(F))\n",
    "    max_fitness.append(np.max(F))"
   ]
  },
  {
   "cell_type": "code",
   "execution_count": 35,
   "metadata": {},
   "outputs": [
    {
     "data": {
      "text/plain": [
       "[<matplotlib.lines.Line2D at 0x158520a0358>]"
      ]
     },
     "execution_count": 35,
     "metadata": {},
     "output_type": "execute_result"
    },
    {
     "data": {
      "image/png": "[encoded data removed]",
      "text/plain": [
       "<Figure size 432x288 with 1 Axes>"
      ]
     },
     "metadata": {
      "needs_background": "light"
     },
     "output_type": "display_data"
    }
   ],
   "source": [
    "plt.plot(np.arange(runs+1), max_fitness)"
   ]
  },
  {
   "cell_type": "markdown",
   "metadata": {},
   "source": [
    "## Parallel"
   ]
  },
  {
   "cell_type": "code",
   "execution_count": 55,
   "metadata": {},
   "outputs": [],
   "source": [
    "# Define the initial probability array and learning rate\n",
    "P = np.random.random_sample((H, m))\n",
    "P_device = cuda.to_device(P)\n",
    "\n",
    "a = 0.15 * np.random.random_sample(m) + 0.05\n",
    "a_device = cuda.to_device(a)\n",
    "delta = 0.015 * rand() + 0.005"
   ]
  },
  {
   "cell_type": "code",
   "execution_count": 56,
   "metadata": {},
   "outputs": [],
   "source": [
    "# game loop\n",
    "# initial fitness\n",
    "\n",
    "T = np.zeros((H,m))\n",
    "T_device = cuda.to_device(T)\n",
    "R1 = np.random.random_sample((H, m))\n",
    "R1_device = cuda.to_device(R1)\n",
    "\n",
    "parallel_spike[blocks_per_grid, threads_per_block](P_device,R1_device,T_device)\n",
    "F = fitness_vector(T_device.copy_to_host())\n",
    "\n",
    "ave_fitness = []\n",
    "ave_fitness.append(np.mean(F))\n",
    "\n",
    "max_fitness = []\n",
    "max_fitness.append(np.max(F))"
   ]
  },
  {
   "cell_type": "code",
   "execution_count": 57,
   "metadata": {},
   "outputs": [],
   "source": [
    "for r in range(runs):\n",
    "    R1 = np.random.random_sample((H, m))\n",
    "    R1_device = cuda.to_device(R1)\n",
    "    R2 = np.random.random_sample((H, m))\n",
    "    R2_device = cuda.to_device(R2)\n",
    "    R3 = np.random.random_sample((H, m))\n",
    "    R3_device = cuda.to_device(R3)\n",
    "    R4 = np.random.random_sample((H, m))\n",
    "    R4_device = cuda.to_device(R4)\n",
    "\n",
    "    F_argmax = fitness_argmax(F)\n",
    "    F_device = cuda.to_device(F)\n",
    "    parallel_guide[blocks_per_grid, threads_per_block](T_device,P_device,F_device,F_argmax,a_device,delta,R2_device,R3_device,R4_device)\n",
    "    parallel_spike[blocks_per_grid, threads_per_block](P_device,R1_device,T_device)\n",
    "\n",
    "    F = fitness_vector(T_device.copy_to_host())\n",
    "    ave_fitness.append(np.mean(F))\n",
    "    max_fitness.append(np.max(F))"
   ]
  },
  {
   "cell_type": "code",
   "execution_count": 59,
   "metadata": {},
   "outputs": [
    {
     "data": {
      "text/plain": [
       "[<matplotlib.lines.Line2D at 0x15851b43320>]"
      ]
     },
     "execution_count": 59,
     "metadata": {},
     "output_type": "execute_result"
    },
    {
     "data": {
      "image/png": "[encoded data removed]",
      "text/plain": [
       "<Figure size 432x288 with 1 Axes>"
      ]
     },
     "metadata": {
      "needs_background": "light"
     },
     "output_type": "display_data"
    }
   ],
   "source": [
    "plt.plot(np.arange(runs+1), ave_fitness)"
   ]
  },
  {
   "cell_type": "code",
   "execution_count": null,
   "metadata": {},
   "outputs": [],
   "source": []
  }
 ],
 "metadata": {
  "kernelspec": {
   "display_name": "Python 3",
   "language": "python",
   "name": "python3"
  },
  "language_info": {
   "codemirror_mode": {
    "name": "ipython",
    "version": 3
   },
   "file_extension": ".py",
   "mimetype": "text/x-python",
   "name": "python",
   "nbconvert_exporter": "python",
   "pygments_lexer": "ipython3",
   "version": "3.7.1"
  }
 },
 "nbformat": 4,
 "nbformat_minor": 2
}
