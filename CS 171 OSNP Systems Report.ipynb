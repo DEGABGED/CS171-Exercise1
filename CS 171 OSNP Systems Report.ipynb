{
 "cells": [
  {
   "cell_type": "code",
   "execution_count": 2,
   "metadata": {},
   "outputs": [],
   "source": [
    "import numpy as np\n",
    "from random import random as rand\n",
    "from math import floor\n",
    "from numba import cuda\n",
    "\n",
    "import matplotlib.pyplot as plt"
   ]
  },
  {
   "cell_type": "markdown",
   "metadata": {},
   "source": [
    "# Optimization SN P Systems"
   ]
  },
  {
   "cell_type": "markdown",
   "metadata": {},
   "source": [
    "## Serial version of spiking and guiding"
   ]
  },
  {
   "cell_type": "code",
   "execution_count": 13,
   "metadata": {},
   "outputs": [],
   "source": [
    "# prob matrix P => chromosome matrix T\n",
    "# serial version\n",
    "\n",
    "def spike(P, H, m):\n",
    "    T = np.zeros((H, m))\n",
    "    for i in range(H):\n",
    "        for j in range(m):\n",
    "            if (rand() < P[i,j]):\n",
    "                T[i,j] = 1\n",
    "                \n",
    "    return T"
   ]
  },
  {
   "cell_type": "code",
   "execution_count": 24,
   "metadata": {},
   "outputs": [],
   "source": [
    "# chromosome matrix T, prob matrix P, fitness vector F => new prob matrix P\n",
    "# serial version\n",
    "\n",
    "def guide(T, P, F, F_argmax, H, m, a, delta):\n",
    "    for i in range(H):\n",
    "        for j in range(m):\n",
    "            if (rand() < a[j]):\n",
    "                k1, k2 = i, i\n",
    "                while (k1 == i or k2 == i):\n",
    "                    k1, k2 = [floor(rand() * H) for i in range(2)]\n",
    "                b = T[k1,j] if F[k1] > F[k2] else T[k2,j]\n",
    "                P[i,j] = P[i,j] + delta if b > 0.5 else P[i,j] - delta\n",
    "            else:\n",
    "                P[i,j] = P[i,j] + delta if T[F_argmax,j] > 0.5 else P[i,j] - delta\n",
    "            \n",
    "            # Adjustments\n",
    "            if P[i,j] > 1:\n",
    "                P[i,j] -= delta\n",
    "            if P[i,j] < 0:\n",
    "                P[i,j] += delta\n",
    "    return P"
   ]
  },
  {
   "cell_type": "markdown",
   "metadata": {},
   "source": [
    "## Parallel versions of spiking and guiding"
   ]
  },
  {
   "cell_type": "code",
   "execution_count": 84,
   "metadata": {},
   "outputs": [],
   "source": [
    "# prob matrix P => chromosome matrix T\n",
    "# serial version\n",
    "\n",
    "@cuda.jit\n",
    "def parallel_spike(P, Rand, T, H, m):\n",
    "    tx = cuda.threadIdx.x\n",
    "    ty = cuda.threadIdx.y\n",
    "    bx = cuda.blockIdx.x\n",
    "    by = cuda.blockIdx.y\n",
    "    \n",
    "    # Set as squares\n",
    "    block_size_x = cuda.blockDim.x\n",
    "    block_size_y = cuda.blockDim.y\n",
    "    grid_size_x = cuda.gridDim.x\n",
    "    grid_size_y = cuda.gridDim.y\n",
    "\n",
    "    # For matrices larger than the grid\n",
    "    x = block_size_x * bx + tx\n",
    "    y = block_size_y * by + ty\n",
    "\n",
    "    if (x < P.shape[0] and y < P.shape[1]):\n",
    "        T[x,y] = 1 if Rand[0,x,y] < P[x,y] else 0"
   ]
  },
  {
   "cell_type": "code",
   "execution_count": 85,
   "metadata": {},
   "outputs": [],
   "source": [
    "@cuda.jit\n",
    "def parallel_guide(T, P, F, F_argmax, a, delta, Rand, H, m):\n",
    "    tx = cuda.threadIdx.x\n",
    "    ty = cuda.threadIdx.y\n",
    "    bx = cuda.blockIdx.x\n",
    "    by = cuda.blockIdx.y\n",
    "    \n",
    "    # Set as squares\n",
    "    block_size_x = cuda.blockDim.x\n",
    "    block_size_y = cuda.blockDim.y\n",
    "    grid_size_x = cuda.gridDim.x\n",
    "    grid_size_y = cuda.gridDim.y\n",
    "\n",
    "    # For matrices larger than the grid\n",
    "    x = block_size_x * bx + tx\n",
    "    y = block_size_y * by + ty\n",
    "    \n",
    "    # Redefine some things\n",
    "    H, m = P.shape\n",
    "\n",
    "    if (x < H and y < m):\n",
    "        if(Rand[1,x,y] < a[y]):\n",
    "            k1 = (int)(Rand[2,x,y]*H)\n",
    "            k2 = (int)(Rand[3,x,y]*H)\n",
    "            if F[k1] > F[k2]:\n",
    "                b = T[k1,y]\n",
    "            else:\n",
    "                b = T[k2,y]\n",
    "            P[x,y] = P[x,y] + delta if b > 0.5 else P[x,y] - delta\n",
    "        else:\n",
    "            P[x,y] = P[x,y] + delta if T[F_argmax,y] > 0.5 else P[x,y] - delta\n",
    "\n",
    "        if P[x,y] > 1:\n",
    "            P[x,y] -= delta\n",
    "        if P[x,y] < 0:\n",
    "            P[x,y] += delta"
   ]
  },
  {
   "cell_type": "markdown",
   "metadata": {},
   "source": [
    "## Serial"
   ]
  },
  {
   "cell_type": "code",
   "execution_count": 30,
   "metadata": {},
   "outputs": [],
   "source": [
    "def serial_run(H=128, m=128, runs=100, fitness=np.sum):\n",
    "\n",
    "    def fitness_vector(T):\n",
    "        F = [fitness(T[i]) for i in range(H)]\n",
    "        return F\n",
    "\n",
    "    def fitness_argmax(F):\n",
    "        arg = 0\n",
    "        for i in range(1, H):\n",
    "            arg = i if F[i] > F[arg] else arg\n",
    "        return arg\n",
    "\n",
    "    # Define the initial probability array and learning rate\n",
    "    P = np.random.random_sample((H, m))\n",
    "    a = 0.15 * np.random.random_sample(m) + 0.05\n",
    "    delta = 0.015 * rand() + 0.005\n",
    "    \n",
    "    # game loop\n",
    "    # initial fitness\n",
    "\n",
    "    T = spike(P, H, m)\n",
    "    F = fitness_vector(T)\n",
    "\n",
    "    ave_fitness = []\n",
    "    ave_fitness.append(np.mean(F))\n",
    "\n",
    "    max_fitness = []\n",
    "    max_fitness.append(np.max(F))\n",
    "    \n",
    "    for r in range(runs):\n",
    "        guide(T, P, F, fitness_argmax(F), H, m, a, delta)\n",
    "        T = spike(P, H, m)\n",
    "        F = fitness_vector(T)\n",
    "        ave_fitness.append(np.mean(F))\n",
    "        max_fitness.append(np.max(F))\n",
    "        \n",
    "    return ave_fitness, max_fitness"
   ]
  },
  {
   "cell_type": "markdown",
   "metadata": {},
   "source": [
    "## Parallel"
   ]
  },
  {
   "cell_type": "code",
   "execution_count": 31,
   "metadata": {},
   "outputs": [],
   "source": [
    "def parallel_run(H=128, m=128, runs=100, threads_per_block=(32,32), blocks_per_grid=(4,4), fitness=np.sum):\n",
    "\n",
    "    def fitness_vector(T):\n",
    "        F = [fitness(T[i]) for i in range(H)]\n",
    "        return F\n",
    "\n",
    "    def fitness_argmax(F):\n",
    "        arg = 0\n",
    "        for i in range(1, H):\n",
    "            arg = i if F[i] > F[arg] else arg\n",
    "        return arg\n",
    "\n",
    "    # Define the initial probability array and learning rate\n",
    "    P = np.random.random_sample((H, m))\n",
    "    P_device = cuda.to_device(P)\n",
    "\n",
    "    a = 0.15 * np.random.random_sample(m) + 0.05\n",
    "    a_device = cuda.to_device(a)\n",
    "    delta = 0.015 * rand() + 0.005\n",
    "    \n",
    "    # game loop\n",
    "    # initial fitness\n",
    "\n",
    "    T = np.zeros((H,m))\n",
    "    T_device = cuda.to_device(T)\n",
    "    Rand = np.random.random_sample((1, H, m))\n",
    "    Rand_device = cuda.to_device(Rand)\n",
    "\n",
    "    parallel_spike[blocks_per_grid, threads_per_block](P_device,Rand_device,T_device,H,m)\n",
    "    F = fitness_vector(T_device.copy_to_host())\n",
    "\n",
    "    ave_fitness = []\n",
    "    ave_fitness.append(np.mean(F))\n",
    "\n",
    "    max_fitness = []\n",
    "    max_fitness.append(np.max(F))\n",
    "    \n",
    "    for r in range(runs):\n",
    "        Rand = np.random.random_sample((4, H, m))\n",
    "        Rand_device = cuda.to_device(Rand)\n",
    "\n",
    "        F_argmax = fitness_argmax(F)\n",
    "        F_device = cuda.to_device(F)\n",
    "        parallel_guide[blocks_per_grid, threads_per_block](T_device,P_device,F_device,F_argmax,a_device,delta,Rand_device,H,m)\n",
    "        parallel_spike[blocks_per_grid, threads_per_block](P_device,Rand_device,T_device,H,m)\n",
    "\n",
    "        F = fitness_vector(T_device.copy_to_host())\n",
    "        ave_fitness.append(np.mean(F))\n",
    "        max_fitness.append(np.max(F))\n",
    "        \n",
    "    return ave_fitness, max_fitness"
   ]
  },
  {
   "cell_type": "markdown",
   "metadata": {},
   "source": [
    "## Fitness Function"
   ]
  },
  {
   "cell_type": "code",
   "execution_count": 33,
   "metadata": {},
   "outputs": [],
   "source": [
    "def return_ffunc(m):\n",
    "    omega = m*3\n",
    "    K = m\n",
    "    w = np.random.randint(1, omega, K)\n",
    "    p = w + 0.5*omega\n",
    "    C = 0.5*np.sum(w)\n",
    "\n",
    "    def f_knapsack(arr):\n",
    "        knapsack = np.sum(np.multiply(arr, p))\n",
    "        load = np.sum(np.multiply(arr, w))\n",
    "        return knapsack if load <= C else -1\n",
    "    \n",
    "    return f_knapsack"
   ]
  },
  {
   "cell_type": "code",
   "execution_count": 38,
   "metadata": {},
   "outputs": [
    {
     "data": {
      "text/plain": [
       "[<matplotlib.lines.Line2D at 0x15f40f4cac8>]"
      ]
     },
     "execution_count": 38,
     "metadata": {},
     "output_type": "execute_result"
    },
    {
     "data": {
      "image/png": "[encoded data removed]",
      "text/plain": [
       "<Figure size 432x288 with 1 Axes>"
      ]
     },
     "metadata": {
      "needs_background": "light"
     },
     "output_type": "display_data"
    }
   ],
   "source": [
    "plt.plot(np.arange(101), max_f)"
   ]
  },
  {
   "cell_type": "markdown",
   "metadata": {},
   "source": [
    "## Testing for multiple cases"
   ]
  },
  {
   "cell_type": "markdown",
   "metadata": {},
   "source": [
    "### Number of runs"
   ]
  },
  {
   "cell_type": "code",
   "execution_count": 39,
   "metadata": {},
   "outputs": [],
   "source": [
    "threads_per_block = (32,32)\n",
    "blocks_per_grid = (4,4)\n",
    "H = 128\n",
    "m = 128\n",
    "ff = return_ffunc(m)"
   ]
  },
  {
   "cell_type": "code",
   "execution_count": 81,
   "metadata": {},
   "outputs": [],
   "source": [
    "runs = 750"
   ]
  },
  {
   "cell_type": "code",
   "execution_count": 82,
   "metadata": {},
   "outputs": [
    {
     "name": "stdout",
     "output_type": "stream",
     "text": [
      "Wall time: 31.4 s\n"
     ]
    }
   ],
   "source": [
    "%time ave_f, max_f = serial_run(H=H, m=m, runs=runs, fitness=ff)"
   ]
  },
  {
   "cell_type": "code",
   "execution_count": 83,
   "metadata": {},
   "outputs": [
    {
     "name": "stdout",
     "output_type": "stream",
     "text": [
      "2.61 s ± 29.2 ms per loop (mean ± std. dev. of 7 runs, 1 loop each)\n"
     ]
    }
   ],
   "source": [
    "%timeit ave_p, max_p = parallel_run(H=H, m=m, runs=runs, fitness=ff)"
   ]
  },
  {
   "cell_type": "code",
   "execution_count": 88,
   "metadata": {},
   "outputs": [],
   "source": [
    "# For recording\n",
    "\n",
    "runs = [\n",
    "    100,\n",
    "    250,\n",
    "    500,\n",
    "    750,\n",
    "    1000,\n",
    "]\n",
    "\n",
    "serial_runs = [\n",
    "    3.900,\n",
    "    10.200,\n",
    "    21.100,\n",
    "    31.400,\n",
    "    43.400,\n",
    "]\n",
    "\n",
    "parallel_runs = [\n",
    "    .336,\n",
    "    .841,\n",
    "    1.650,\n",
    "    2.610,\n",
    "    3.430,\n",
    "]"
   ]
  },
  {
   "cell_type": "code",
   "execution_count": 90,
   "metadata": {},
   "outputs": [
    {
     "data": {
      "image/png": "[encoded data removed]",
      "text/plain": [
       "<Figure size 432x288 with 1 Axes>"
      ]
     },
     "metadata": {
      "needs_background": "light"
     },
     "output_type": "display_data"
    }
   ],
   "source": [
    "plt.plot(runs, serial_runs)\n",
    "plt.plot(runs, parallel_runs)\n",
    "\n",
    "plt.legend(['Serial', 'Parallel [(4x4), (32x32)]'], loc='upper left')\n",
    "\n",
    "plt.xlabel('Generations')\n",
    "plt.ylabel('Seconds')\n",
    "plt.title('Comparison of runtimes')\n",
    "\n",
    "plt.show()"
   ]
  },
  {
   "cell_type": "code",
   "execution_count": 91,
   "metadata": {},
   "outputs": [],
   "source": [
    "ave_f, max_f = serial_run(H=H, m=m, runs=1000, fitness=ff)"
   ]
  },
  {
   "cell_type": "code",
   "execution_count": 95,
   "metadata": {},
   "outputs": [],
   "source": [
    "ave_p, max_p = parallel_run(H=H, m=m, runs=1000, fitness=ff)"
   ]
  },
  {
   "cell_type": "code",
   "execution_count": 96,
   "metadata": {},
   "outputs": [
    {
     "data": {
      "image/png": "[encoded data removed]",
      "text/plain": [
       "<Figure size 432x288 with 1 Axes>"
      ]
     },
     "metadata": {
      "needs_background": "light"
     },
     "output_type": "display_data"
    }
   ],
   "source": [
    "plt.plot(np.arange(1001), max_p)\n",
    "\n",
    "plt.xlabel('Generations')\n",
    "plt.ylabel('Fitness')\n",
    "plt.title('Fitness of solution over time (Parallel)')\n",
    "\n",
    "plt.show()"
   ]
  },
  {
   "cell_type": "markdown",
   "metadata": {},
   "source": [
    "## System size"
   ]
  },
  {
   "cell_type": "code",
   "execution_count": 122,
   "metadata": {},
   "outputs": [],
   "source": [
    "threads_per_block = (16,64)\n",
    "blocks_per_grid = (16,16)\n",
    "H = 64\n",
    "m = 1024\n",
    "runs = 1000\n",
    "ff = return_ffunc(m)"
   ]
  },
  {
   "cell_type": "code",
   "execution_count": 113,
   "metadata": {},
   "outputs": [
    {
     "name": "stdout",
     "output_type": "stream",
     "text": [
      "6.83 s ± 40.6 ms per loop (mean ± std. dev. of 7 runs, 1 loop each)\n"
     ]
    }
   ],
   "source": [
    "%timeit ave_p, max_p = parallel_run(H=H, m=m, runs=runs, threads_per_block=threads_per_block, blocks_per_grid=blocks_per_grid, fitness=ff)"
   ]
  },
  {
   "cell_type": "code",
   "execution_count": 114,
   "metadata": {},
   "outputs": [
    {
     "name": "stdout",
     "output_type": "stream",
     "text": [
      "Wall time: 2min 48s\n"
     ]
    }
   ],
   "source": [
    "%time ave_f, max_f = serial_run(H=H, m=m, runs=runs, fitness=ff)"
   ]
  },
  {
   "cell_type": "code",
   "execution_count": 117,
   "metadata": {},
   "outputs": [],
   "source": [
    "# 64 items\n",
    "\n",
    "items = [\n",
    "    \"128\",\n",
    "    \"256\",\n",
    "    \"512\",\n",
    "    \"1024\",\n",
    "]\n",
    "\n",
    "serial_runs = [\n",
    "    21.9,\n",
    "    42.6,\n",
    "    82,\n",
    "    168,\n",
    "]\n",
    "\n",
    "parallel_runs = [\n",
    "    2.37,\n",
    "    2.91,\n",
    "    4.5,\n",
    "    6.83,\n",
    "]"
   ]
  },
  {
   "cell_type": "code",
   "execution_count": 121,
   "metadata": {},
   "outputs": [
    {
     "data": {
      "image/png": "[encoded data removed]",
      "text/plain": [
       "<Figure size 432x288 with 1 Axes>"
      ]
     },
     "metadata": {
      "needs_background": "light"
     },
     "output_type": "display_data"
    }
   ],
   "source": [
    "plt.plot(items, serial_runs)\n",
    "plt.plot(items, parallel_runs)\n",
    "\n",
    "plt.legend(['Serial', 'Parallel [(16x16), (16x64)]'], loc='upper left')\n",
    "\n",
    "plt.xlabel('Number of items')\n",
    "plt.ylabel('Seconds')\n",
    "plt.title('Comparison of runtimes')\n",
    "\n",
    "plt.show()"
   ]
  },
  {
   "cell_type": "code",
   "execution_count": 125,
   "metadata": {},
   "outputs": [],
   "source": [
    "ave_p, max_p2 = parallel_run(H=H, m=m, runs=runs, threads_per_block=threads_per_block, blocks_per_grid=blocks_per_grid, fitness=ff)\n",
    "ave_f, max_f2 = serial_run(H=H, m=m, runs=runs, fitness=ff)"
   ]
  },
  {
   "cell_type": "code",
   "execution_count": 126,
   "metadata": {},
   "outputs": [
    {
     "data": {
      "image/png": "[encoded data removed]",
      "text/plain": [
       "<Figure size 432x288 with 1 Axes>"
      ]
     },
     "metadata": {
      "needs_background": "light"
     },
     "output_type": "display_data"
    }
   ],
   "source": [
    "plt.plot(np.arange(1001), max_f2)\n",
    "plt.plot(np.arange(1001), max_p2)\n",
    "\n",
    "plt.legend(['Serial', 'Parallel [(16x16), (16x64)]'], loc='lower right')\n",
    "\n",
    "plt.xlabel('Generations')\n",
    "plt.ylabel('Fitness')\n",
    "plt.title('Fitness of solution over time (1024 items)')\n",
    "\n",
    "plt.show()"
   ]
  },
  {
   "cell_type": "code",
   "execution_count": null,
   "metadata": {},
   "outputs": [],
   "source": []
  }
 ],
 "metadata": {
  "kernelspec": {
   "display_name": "Python 3",
   "language": "python",
   "name": "python3"
  },
  "language_info": {
   "codemirror_mode": {
    "name": "ipython",
    "version": 3
   },
   "file_extension": ".py",
   "mimetype": "text/x-python",
   "name": "python",
   "nbconvert_exporter": "python",
   "pygments_lexer": "ipython3",
   "version": "3.7.1"
  }
 },
 "nbformat": 4,
 "nbformat_minor": 2
}
